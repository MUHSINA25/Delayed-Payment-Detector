{
 "cells": [
  {
   "cell_type": "markdown",
   "metadata": {
    "id": "ZcitYPLRRKYY"
   },
   "source": [
    "# Delayed Payment Detector\n",
    "### Name: Muhsina CT\n",
    "\n",
    "## 1. Overview of Problem Statement\n",
    "\n",
    "Timely payments are important for businesses to stay financially stable. Late payments can cause issues and affect cash flow. It’s not easy to know in advance which payments will be late, as many factors play a role, like payment method, customer type, and invoice details. A classification model can help businesses identify late payments early, so they can take action, like sending reminders or adjusting payment terms.\n",
    "\n",
    "### 2. **Objective:**\n",
    "The goal of this project is to build a classification model that can classify whether a payment will be late or on time, based on various factors. By classifying late payments, businesses can manage their cash flow better and avoid problems. We will test different machine learning models like Logistic Regression, Random Forest, Gradient Boosting, SVM, and KNN, and pick the best one. After that, we'll fine-tune the model to make it more accurate.\n",
    "### 3. **Data Description:**\n",
    "\n",
    "- **Source:** [Received Payment Data](https://drive.google.com/drive/folders/1hA-GmbczrVkQ-K_aKdCGFAMnD9BcyZlM?usp=drive_link)\n",
    "\n",
    "#### Features:\n",
    "- **RECEIPT_METHOD:** Method used to make the payment.\n",
    "- **CUSTOMER_NAME:** Name of the customer or vendor.\n",
    "- **CUSTOMER_NUMBER:** Unique identifier for the customer.\n",
    "- **RECEIPT_DOC_NO:** Reference number for the payment receipt.\n",
    "- **RECEIPT_DATE:** Date when the payment was made.\n",
    "- **CLASS:** Type of transaction, usually 'PMT' for payments received.\n",
    "- **CURRENCY_CODE:** Currency used for the payment.\n",
    "- **Local_Amount:** Value of the invoice in local currency.\n",
    "- **USD_Amount:** Invoice value converted to USD.\n",
    "- **INVOICE_ALLOCATED:** Invoice number assigned to a particular vendor.\n",
    "- **INVOICE_CREATION_DATE:** Date when the invoice was created.\n",
    "- **DUE_DATE:** Date by which the payment should have been made.\n",
    "- **PAYMENT_TERM:** Number of days given to the vendor/customer to make the payment.\n",
    "- **INVOICE_CLASS:** Type of invoice - Credit Memo (CM), Debit Memo (DM), or Invoice (INV).\n",
    "- **INVOICE_CURRENCY_CODE:** Currency code from the invoice.\n",
    "- **INVOICE_TYPE:** Indicates if the invoice is for physical goods or services.\n"
   ]
  },
  {
   "cell_type": "markdown",
   "metadata": {
    "id": "C_SM-_LAhXHX"
   },
   "source": [
    "## 4. Data Collection :"
   ]
  },
  {
   "cell_type": "code",
   "execution_count": null,
   "metadata": {
    "id": "6JhcyZfPn3ZL"
   },
   "outputs": [],
   "source": [
    "# Importing required lbraries\n",
    "import pandas as pd\n",
    "import numpy as np\n",
    "import seaborn as sns\n",
    "import matplotlib.pyplot as plt\n",
    "from sklearn.model_selection import train_test_split\n",
    "from sklearn.preprocessing import StandardScaler, OneHotEncoder, LabelEncoder\n",
    "from sklearn.ensemble import RandomForestClassifier, GradientBoostingClassifier\n",
    "from sklearn.linear_model import LogisticRegression\n",
    "from sklearn.svm import SVC\n",
    "from sklearn.neighbors import KNeighborsClassifier\n",
    "from sklearn.metrics import accuracy_score, classification_report, confusion_matrix"
   ]
  },
  {
   "cell_type": "code",
   "execution_count": null,
   "metadata": {
    "id": "R8_lXAf5oCtn"
   },
   "outputs": [],
   "source": [
    "# 1. Load Dataset\n",
    "df = pd.read_csv(\"Received_Payments_Data.csv\")"
   ]
  },
  {
   "cell_type": "code",
   "execution_count": null,
   "metadata": {
    "colab": {
     "base_uri": "https://localhost:8080/",
     "height": 330
    },
    "id": "9Y8MM35VoZel",
    "outputId": "d3d16e05-2def-44f8-b6fb-0d8f3387eb98"
   },
   "outputs": [
    {
     "data": {
      "application/vnd.google.colaboratory.intrinsic+json": {
       "summary": "{\n  \"name\": \"df\",\n  \"rows\": 93937,\n  \"fields\": [\n    {\n      \"column\": \"RECEIPT_METHOD\",\n      \"properties\": {\n        \"dtype\": \"category\",\n        \"num_unique_values\": 8,\n        \"samples\": [\n          \"AP/AR Netting\",\n          \"I/C WIRE\",\n          \"WIRE\"\n        ],\n        \"semantic_type\": \"\",\n        \"description\": \"\"\n      }\n    },\n    {\n      \"column\": \"CUSTOMER_NAME\",\n      \"properties\": {\n        \"dtype\": \"category\",\n        \"num_unique_values\": 690,\n        \"samples\": [\n          \"CARO Corp\",\n          \"CLAR Corp\",\n          \"EXTR Corp\"\n        ],\n        \"semantic_type\": \"\",\n        \"description\": \"\"\n      }\n    },\n    {\n      \"column\": \"CUSTOMER_NUMBER\",\n      \"properties\": {\n        \"dtype\": \"number\",\n        \"std\": 14274,\n        \"min\": 1044,\n        \"max\": 52940,\n        \"num_unique_values\": 1054,\n        \"samples\": [\n          47361,\n          48160,\n          35041\n        ],\n        \"semantic_type\": \"\",\n        \"description\": \"\"\n      }\n    },\n    {\n      \"column\": \"RECEIPT_DOC_NO\",\n      \"properties\": {\n        \"dtype\": \"number\",\n        \"std\": 38853588372.4155,\n        \"min\": 14210000001.0,\n        \"max\": 297000000000.0,\n        \"num_unique_values\": 73,\n        \"samples\": [\n          99210000004.0,\n          241000000000.0,\n          99210000018.0\n        ],\n        \"semantic_type\": \"\",\n        \"description\": \"\"\n      }\n    },\n    {\n      \"column\": \"RECEIPT_DATE\",\n      \"properties\": {\n        \"dtype\": \"object\",\n        \"num_unique_values\": 170,\n        \"samples\": [\n          \"1-Apr-21\",\n          \"22-May-21\",\n          \"3-Jun-21\"\n        ],\n        \"semantic_type\": \"\",\n        \"description\": \"\"\n      }\n    },\n    {\n      \"column\": \"CLASS\",\n      \"properties\": {\n        \"dtype\": \"category\",\n        \"num_unique_values\": 1,\n        \"samples\": [\n          \"PMT\"\n        ],\n        \"semantic_type\": \"\",\n        \"description\": \"\"\n      }\n    },\n    {\n      \"column\": \"CURRENCY_CODE\",\n      \"properties\": {\n        \"dtype\": \"category\",\n        \"num_unique_values\": 8,\n        \"samples\": [\n          \"SAR\"\n        ],\n        \"semantic_type\": \"\",\n        \"description\": \"\"\n      }\n    },\n    {\n      \"column\": \"Local Amount\",\n      \"properties\": {\n        \"dtype\": \"number\",\n        \"std\": 1546900.6779996986,\n        \"min\": 0.0,\n        \"max\": 10849828.8,\n        \"num_unique_values\": 7752,\n        \"samples\": [\n          26850.83\n        ],\n        \"semantic_type\": \"\",\n        \"description\": \"\"\n      }\n    },\n    {\n      \"column\": \"USD Amount\",\n      \"properties\": {\n        \"dtype\": \"number\",\n        \"std\": 950869.3094431103,\n        \"min\": 0.0,\n        \"max\": 10849828.8,\n        \"num_unique_values\": 7820,\n        \"samples\": [\n          772.0326753\n        ],\n        \"semantic_type\": \"\",\n        \"description\": \"\"\n      }\n    },\n    {\n      \"column\": \"INVOICE_ALLOCATED\",\n      \"properties\": {\n        \"dtype\": \"category\",\n        \"num_unique_values\": 12986,\n        \"samples\": [\n          \"IC15310721050165\"\n        ],\n        \"semantic_type\": \"\",\n        \"description\": \"\"\n      }\n    },\n    {\n      \"column\": \"INVOICE_CREATION_DATE\",\n      \"properties\": {\n        \"dtype\": \"object\",\n        \"num_unique_values\": 1310,\n        \"samples\": [\n          \"29-Mar-20\"\n        ],\n        \"semantic_type\": \"\",\n        \"description\": \"\"\n      }\n    },\n    {\n      \"column\": \"DUE_DATE\",\n      \"properties\": {\n        \"dtype\": \"object\",\n        \"num_unique_values\": 1203,\n        \"samples\": [\n          \"3-May-18\"\n        ],\n        \"semantic_type\": \"\",\n        \"description\": \"\"\n      }\n    },\n    {\n      \"column\": \"PAYMENT_TERM\",\n      \"properties\": {\n        \"dtype\": \"category\",\n        \"num_unique_values\": 42,\n        \"samples\": [\n          \"120 Days from EOM\"\n        ],\n        \"semantic_type\": \"\",\n        \"description\": \"\"\n      }\n    },\n    {\n      \"column\": \"INVOICE_CLASS\",\n      \"properties\": {\n        \"dtype\": \"category\",\n        \"num_unique_values\": 3,\n        \"samples\": [\n          \"INV\"\n        ],\n        \"semantic_type\": \"\",\n        \"description\": \"\"\n      }\n    },\n    {\n      \"column\": \"INVOICE_CURRENCY_CODE\",\n      \"properties\": {\n        \"dtype\": \"category\",\n        \"num_unique_values\": 10,\n        \"samples\": [\n          \"ZAR\"\n        ],\n        \"semantic_type\": \"\",\n        \"description\": \"\"\n      }\n    },\n    {\n      \"column\": \"INVOICE_TYPE\",\n      \"properties\": {\n        \"dtype\": \"category\",\n        \"num_unique_values\": 2,\n        \"samples\": [\n          \"Goods\"\n        ],\n        \"semantic_type\": \"\",\n        \"description\": \"\"\n      }\n    }\n  ]\n}",
       "type": "dataframe",
       "variable_name": "df"
      },
      "text/html": [
       "\n",
       "  <div id=\"df-486085d5-8058-4a24-885c-29706a84a15b\" class=\"colab-df-container\">\n",
       "    <div>\n",
       "<style scoped>\n",
       "    .dataframe tbody tr th:only-of-type {\n",
       "        vertical-align: middle;\n",
       "    }\n",
       "\n",
       "    .dataframe tbody tr th {\n",
       "        vertical-align: top;\n",
       "    }\n",
       "\n",
       "    .dataframe thead th {\n",
       "        text-align: right;\n",
       "    }\n",
       "</style>\n",
       "<table border=\"1\" class=\"dataframe\">\n",
       "  <thead>\n",
       "    <tr style=\"text-align: right;\">\n",
       "      <th></th>\n",
       "      <th>RECEIPT_METHOD</th>\n",
       "      <th>CUSTOMER_NAME</th>\n",
       "      <th>CUSTOMER_NUMBER</th>\n",
       "      <th>RECEIPT_DOC_NO</th>\n",
       "      <th>RECEIPT_DATE</th>\n",
       "      <th>CLASS</th>\n",
       "      <th>CURRENCY_CODE</th>\n",
       "      <th>Local Amount</th>\n",
       "      <th>USD Amount</th>\n",
       "      <th>INVOICE_ALLOCATED</th>\n",
       "      <th>INVOICE_CREATION_DATE</th>\n",
       "      <th>DUE_DATE</th>\n",
       "      <th>PAYMENT_TERM</th>\n",
       "      <th>INVOICE_CLASS</th>\n",
       "      <th>INVOICE_CURRENCY_CODE</th>\n",
       "      <th>INVOICE_TYPE</th>\n",
       "    </tr>\n",
       "  </thead>\n",
       "  <tbody>\n",
       "    <tr>\n",
       "      <th>0</th>\n",
       "      <td>WIRE</td>\n",
       "      <td>C EA Corp</td>\n",
       "      <td>37403</td>\n",
       "      <td>1.421000e+10</td>\n",
       "      <td>20-Apr-21</td>\n",
       "      <td>PMT</td>\n",
       "      <td>USD</td>\n",
       "      <td>370990.92</td>\n",
       "      <td>101018.63040</td>\n",
       "      <td>14200000001</td>\n",
       "      <td>2-Nov-20</td>\n",
       "      <td>30-Dec-20</td>\n",
       "      <td>30 Days from EOM</td>\n",
       "      <td>INV</td>\n",
       "      <td>AED</td>\n",
       "      <td>Non Goods</td>\n",
       "    </tr>\n",
       "    <tr>\n",
       "      <th>1</th>\n",
       "      <td>WIRE</td>\n",
       "      <td>RADW Corp</td>\n",
       "      <td>4003</td>\n",
       "      <td>9.921000e+10</td>\n",
       "      <td>31-Jan-21</td>\n",
       "      <td>PMT</td>\n",
       "      <td>SAR</td>\n",
       "      <td>183750.00</td>\n",
       "      <td>48990.21133</td>\n",
       "      <td>99200000043</td>\n",
       "      <td>29-Dec-20</td>\n",
       "      <td>28-Jan-21</td>\n",
       "      <td>30 Days from Inv Date</td>\n",
       "      <td>INV</td>\n",
       "      <td>SAR</td>\n",
       "      <td>Non Goods</td>\n",
       "    </tr>\n",
       "    <tr>\n",
       "      <th>2</th>\n",
       "      <td>WIRE</td>\n",
       "      <td>RADW Corp</td>\n",
       "      <td>4003</td>\n",
       "      <td>9.921000e+10</td>\n",
       "      <td>31-Jan-21</td>\n",
       "      <td>PMT</td>\n",
       "      <td>SAR</td>\n",
       "      <td>157500.00</td>\n",
       "      <td>41991.60971</td>\n",
       "      <td>99210000003</td>\n",
       "      <td>30-Jan-21</td>\n",
       "      <td>1-Mar-21</td>\n",
       "      <td>30 Days from Inv Date</td>\n",
       "      <td>INV</td>\n",
       "      <td>SAR</td>\n",
       "      <td>Non Goods</td>\n",
       "    </tr>\n",
       "    <tr>\n",
       "      <th>3</th>\n",
       "      <td>WIRE</td>\n",
       "      <td>FARO Corp</td>\n",
       "      <td>1409</td>\n",
       "      <td>9.921000e+10</td>\n",
       "      <td>31-Jan-21</td>\n",
       "      <td>PMT</td>\n",
       "      <td>SAR</td>\n",
       "      <td>157500.00</td>\n",
       "      <td>41991.60971</td>\n",
       "      <td>99200000038</td>\n",
       "      <td>15-Dec-20</td>\n",
       "      <td>14-Jan-21</td>\n",
       "      <td>30 Days from Inv Date</td>\n",
       "      <td>INV</td>\n",
       "      <td>SAR</td>\n",
       "      <td>Non Goods</td>\n",
       "    </tr>\n",
       "    <tr>\n",
       "      <th>4</th>\n",
       "      <td>WIRE</td>\n",
       "      <td>RADW Corp</td>\n",
       "      <td>4003</td>\n",
       "      <td>9.921000e+10</td>\n",
       "      <td>31-Jan-21</td>\n",
       "      <td>PMT</td>\n",
       "      <td>SAR</td>\n",
       "      <td>157500.00</td>\n",
       "      <td>41991.60971</td>\n",
       "      <td>99200000039</td>\n",
       "      <td>15-Dec-20</td>\n",
       "      <td>14-Jan-21</td>\n",
       "      <td>30 Days from Inv Date</td>\n",
       "      <td>INV</td>\n",
       "      <td>SAR</td>\n",
       "      <td>Non Goods</td>\n",
       "    </tr>\n",
       "  </tbody>\n",
       "</table>\n",
       "</div>\n",
       "    <div class=\"colab-df-buttons\">\n",
       "\n",
       "  <div class=\"colab-df-container\">\n",
       "    <button class=\"colab-df-convert\" onclick=\"convertToInteractive('df-486085d5-8058-4a24-885c-29706a84a15b')\"\n",
       "            title=\"Convert this dataframe to an interactive table.\"\n",
       "            style=\"display:none;\">\n",
       "\n",
       "  <svg xmlns=\"http://www.w3.org/2000/svg\" height=\"24px\" viewBox=\"0 -960 960 960\">\n",
       "    <path d=\"M120-120v-720h720v720H120Zm60-500h600v-160H180v160Zm220 220h160v-160H400v160Zm0 220h160v-160H400v160ZM180-400h160v-160H180v160Zm440 0h160v-160H620v160ZM180-180h160v-160H180v160Zm440 0h160v-160H620v160Z\"/>\n",
       "  </svg>\n",
       "    </button>\n",
       "\n",
       "  <style>\n",
       "    .colab-df-container {\n",
       "      display:flex;\n",
       "      gap: 12px;\n",
       "    }\n",
       "\n",
       "    .colab-df-convert {\n",
       "      background-color: #E8F0FE;\n",
       "      border: none;\n",
       "      border-radius: 50%;\n",
       "      cursor: pointer;\n",
       "      display: none;\n",
       "      fill: #1967D2;\n",
       "      height: 32px;\n",
       "      padding: 0 0 0 0;\n",
       "      width: 32px;\n",
       "    }\n",
       "\n",
       "    .colab-df-convert:hover {\n",
       "      background-color: #E2EBFA;\n",
       "      box-shadow: 0px 1px 2px rgba(60, 64, 67, 0.3), 0px 1px 3px 1px rgba(60, 64, 67, 0.15);\n",
       "      fill: #174EA6;\n",
       "    }\n",
       "\n",
       "    .colab-df-buttons div {\n",
       "      margin-bottom: 4px;\n",
       "    }\n",
       "\n",
       "    [theme=dark] .colab-df-convert {\n",
       "      background-color: #3B4455;\n",
       "      fill: #D2E3FC;\n",
       "    }\n",
       "\n",
       "    [theme=dark] .colab-df-convert:hover {\n",
       "      background-color: #434B5C;\n",
       "      box-shadow: 0px 1px 3px 1px rgba(0, 0, 0, 0.15);\n",
       "      filter: drop-shadow(0px 1px 2px rgba(0, 0, 0, 0.3));\n",
       "      fill: #FFFFFF;\n",
       "    }\n",
       "  </style>\n",
       "\n",
       "    <script>\n",
       "      const buttonEl =\n",
       "        document.querySelector('#df-486085d5-8058-4a24-885c-29706a84a15b button.colab-df-convert');\n",
       "      buttonEl.style.display =\n",
       "        google.colab.kernel.accessAllowed ? 'block' : 'none';\n",
       "\n",
       "      async function convertToInteractive(key) {\n",
       "        const element = document.querySelector('#df-486085d5-8058-4a24-885c-29706a84a15b');\n",
       "        const dataTable =\n",
       "          await google.colab.kernel.invokeFunction('convertToInteractive',\n",
       "                                                    [key], {});\n",
       "        if (!dataTable) return;\n",
       "\n",
       "        const docLinkHtml = 'Like what you see? Visit the ' +\n",
       "          '<a target=\"_blank\" href=https://colab.research.google.com/notebooks/data_table.ipynb>data table notebook</a>'\n",
       "          + ' to learn more about interactive tables.';\n",
       "        element.innerHTML = '';\n",
       "        dataTable['output_type'] = 'display_data';\n",
       "        await google.colab.output.renderOutput(dataTable, element);\n",
       "        const docLink = document.createElement('div');\n",
       "        docLink.innerHTML = docLinkHtml;\n",
       "        element.appendChild(docLink);\n",
       "      }\n",
       "    </script>\n",
       "  </div>\n",
       "\n",
       "\n",
       "<div id=\"df-c99caba2-44cd-4b94-97f3-7d7309119443\">\n",
       "  <button class=\"colab-df-quickchart\" onclick=\"quickchart('df-c99caba2-44cd-4b94-97f3-7d7309119443')\"\n",
       "            title=\"Suggest charts\"\n",
       "            style=\"display:none;\">\n",
       "\n",
       "<svg xmlns=\"http://www.w3.org/2000/svg\" height=\"24px\"viewBox=\"0 0 24 24\"\n",
       "     width=\"24px\">\n",
       "    <g>\n",
       "        <path d=\"M19 3H5c-1.1 0-2 .9-2 2v14c0 1.1.9 2 2 2h14c1.1 0 2-.9 2-2V5c0-1.1-.9-2-2-2zM9 17H7v-7h2v7zm4 0h-2V7h2v10zm4 0h-2v-4h2v4z\"/>\n",
       "    </g>\n",
       "</svg>\n",
       "  </button>\n",
       "\n",
       "<style>\n",
       "  .colab-df-quickchart {\n",
       "      --bg-color: #E8F0FE;\n",
       "      --fill-color: #1967D2;\n",
       "      --hover-bg-color: #E2EBFA;\n",
       "      --hover-fill-color: #174EA6;\n",
       "      --disabled-fill-color: #AAA;\n",
       "      --disabled-bg-color: #DDD;\n",
       "  }\n",
       "\n",
       "  [theme=dark] .colab-df-quickchart {\n",
       "      --bg-color: #3B4455;\n",
       "      --fill-color: #D2E3FC;\n",
       "      --hover-bg-color: #434B5C;\n",
       "      --hover-fill-color: #FFFFFF;\n",
       "      --disabled-bg-color: #3B4455;\n",
       "      --disabled-fill-color: #666;\n",
       "  }\n",
       "\n",
       "  .colab-df-quickchart {\n",
       "    background-color: var(--bg-color);\n",
       "    border: none;\n",
       "    border-radius: 50%;\n",
       "    cursor: pointer;\n",
       "    display: none;\n",
       "    fill: var(--fill-color);\n",
       "    height: 32px;\n",
       "    padding: 0;\n",
       "    width: 32px;\n",
       "  }\n",
       "\n",
       "  .colab-df-quickchart:hover {\n",
       "    background-color: var(--hover-bg-color);\n",
       "    box-shadow: 0 1px 2px rgba(60, 64, 67, 0.3), 0 1px 3px 1px rgba(60, 64, 67, 0.15);\n",
       "    fill: var(--button-hover-fill-color);\n",
       "  }\n",
       "\n",
       "  .colab-df-quickchart-complete:disabled,\n",
       "  .colab-df-quickchart-complete:disabled:hover {\n",
       "    background-color: var(--disabled-bg-color);\n",
       "    fill: var(--disabled-fill-color);\n",
       "    box-shadow: none;\n",
       "  }\n",
       "\n",
       "  .colab-df-spinner {\n",
       "    border: 2px solid var(--fill-color);\n",
       "    border-color: transparent;\n",
       "    border-bottom-color: var(--fill-color);\n",
       "    animation:\n",
       "      spin 1s steps(1) infinite;\n",
       "  }\n",
       "\n",
       "  @keyframes spin {\n",
       "    0% {\n",
       "      border-color: transparent;\n",
       "      border-bottom-color: var(--fill-color);\n",
       "      border-left-color: var(--fill-color);\n",
       "    }\n",
       "    20% {\n",
       "      border-color: transparent;\n",
       "      border-left-color: var(--fill-color);\n",
       "      border-top-color: var(--fill-color);\n",
       "    }\n",
       "    30% {\n",
       "      border-color: transparent;\n",
       "      border-left-color: var(--fill-color);\n",
       "      border-top-color: var(--fill-color);\n",
       "      border-right-color: var(--fill-color);\n",
       "    }\n",
       "    40% {\n",
       "      border-color: transparent;\n",
       "      border-right-color: var(--fill-color);\n",
       "      border-top-color: var(--fill-color);\n",
       "    }\n",
       "    60% {\n",
       "      border-color: transparent;\n",
       "      border-right-color: var(--fill-color);\n",
       "    }\n",
       "    80% {\n",
       "      border-color: transparent;\n",
       "      border-right-color: var(--fill-color);\n",
       "      border-bottom-color: var(--fill-color);\n",
       "    }\n",
       "    90% {\n",
       "      border-color: transparent;\n",
       "      border-bottom-color: var(--fill-color);\n",
       "    }\n",
       "  }\n",
       "</style>\n",
       "\n",
       "  <script>\n",
       "    async function quickchart(key) {\n",
       "      const quickchartButtonEl =\n",
       "        document.querySelector('#' + key + ' button');\n",
       "      quickchartButtonEl.disabled = true;  // To prevent multiple clicks.\n",
       "      quickchartButtonEl.classList.add('colab-df-spinner');\n",
       "      try {\n",
       "        const charts = await google.colab.kernel.invokeFunction(\n",
       "            'suggestCharts', [key], {});\n",
       "      } catch (error) {\n",
       "        console.error('Error during call to suggestCharts:', error);\n",
       "      }\n",
       "      quickchartButtonEl.classList.remove('colab-df-spinner');\n",
       "      quickchartButtonEl.classList.add('colab-df-quickchart-complete');\n",
       "    }\n",
       "    (() => {\n",
       "      let quickchartButtonEl =\n",
       "        document.querySelector('#df-c99caba2-44cd-4b94-97f3-7d7309119443 button');\n",
       "      quickchartButtonEl.style.display =\n",
       "        google.colab.kernel.accessAllowed ? 'block' : 'none';\n",
       "    })();\n",
       "  </script>\n",
       "</div>\n",
       "\n",
       "    </div>\n",
       "  </div>\n"
      ],
      "text/plain": [
       "  RECEIPT_METHOD CUSTOMER_NAME  CUSTOMER_NUMBER  RECEIPT_DOC_NO RECEIPT_DATE  \\\n",
       "0           WIRE     C EA Corp            37403    1.421000e+10    20-Apr-21   \n",
       "1           WIRE     RADW Corp             4003    9.921000e+10    31-Jan-21   \n",
       "2           WIRE     RADW Corp             4003    9.921000e+10    31-Jan-21   \n",
       "3           WIRE     FARO Corp             1409    9.921000e+10    31-Jan-21   \n",
       "4           WIRE     RADW Corp             4003    9.921000e+10    31-Jan-21   \n",
       "\n",
       "  CLASS CURRENCY_CODE  Local Amount    USD Amount INVOICE_ALLOCATED  \\\n",
       "0   PMT           USD     370990.92  101018.63040       14200000001   \n",
       "1   PMT           SAR     183750.00   48990.21133       99200000043   \n",
       "2   PMT           SAR     157500.00   41991.60971       99210000003   \n",
       "3   PMT           SAR     157500.00   41991.60971       99200000038   \n",
       "4   PMT           SAR     157500.00   41991.60971       99200000039   \n",
       "\n",
       "  INVOICE_CREATION_DATE   DUE_DATE           PAYMENT_TERM INVOICE_CLASS  \\\n",
       "0              2-Nov-20  30-Dec-20       30 Days from EOM           INV   \n",
       "1             29-Dec-20  28-Jan-21  30 Days from Inv Date           INV   \n",
       "2             30-Jan-21   1-Mar-21  30 Days from Inv Date           INV   \n",
       "3             15-Dec-20  14-Jan-21  30 Days from Inv Date           INV   \n",
       "4             15-Dec-20  14-Jan-21  30 Days from Inv Date           INV   \n",
       "\n",
       "  INVOICE_CURRENCY_CODE INVOICE_TYPE  \n",
       "0                   AED    Non Goods  \n",
       "1                   SAR    Non Goods  \n",
       "2                   SAR    Non Goods  \n",
       "3                   SAR    Non Goods  \n",
       "4                   SAR    Non Goods  "
      ]
     },
     "execution_count": 3,
     "metadata": {},
     "output_type": "execute_result"
    }
   ],
   "source": [
    "df.head()"
   ]
  },
  {
   "cell_type": "code",
   "execution_count": null,
   "metadata": {
    "colab": {
     "base_uri": "https://localhost:8080/",
     "height": 330
    },
    "id": "O736vIv4pa0g",
    "outputId": "585cd43a-1b79-4ace-907a-b8c73910bfb0"
   },
   "outputs": [
    {
     "data": {
      "application/vnd.google.colaboratory.intrinsic+json": {
       "repr_error": "0",
       "type": "dataframe"
      },
      "text/html": [
       "\n",
       "  <div id=\"df-d8d63af4-2ea7-4940-a05e-c2775772c9a6\" class=\"colab-df-container\">\n",
       "    <div>\n",
       "<style scoped>\n",
       "    .dataframe tbody tr th:only-of-type {\n",
       "        vertical-align: middle;\n",
       "    }\n",
       "\n",
       "    .dataframe tbody tr th {\n",
       "        vertical-align: top;\n",
       "    }\n",
       "\n",
       "    .dataframe thead th {\n",
       "        text-align: right;\n",
       "    }\n",
       "</style>\n",
       "<table border=\"1\" class=\"dataframe\">\n",
       "  <thead>\n",
       "    <tr style=\"text-align: right;\">\n",
       "      <th></th>\n",
       "      <th>RECEIPT_METHOD</th>\n",
       "      <th>CUSTOMER_NAME</th>\n",
       "      <th>CUSTOMER_NUMBER</th>\n",
       "      <th>RECEIPT_DOC_NO</th>\n",
       "      <th>RECEIPT_DATE</th>\n",
       "      <th>CLASS</th>\n",
       "      <th>CURRENCY_CODE</th>\n",
       "      <th>Local Amount</th>\n",
       "      <th>USD Amount</th>\n",
       "      <th>INVOICE_ALLOCATED</th>\n",
       "      <th>INVOICE_CREATION_DATE</th>\n",
       "      <th>DUE_DATE</th>\n",
       "      <th>PAYMENT_TERM</th>\n",
       "      <th>INVOICE_CLASS</th>\n",
       "      <th>INVOICE_CURRENCY_CODE</th>\n",
       "      <th>INVOICE_TYPE</th>\n",
       "    </tr>\n",
       "  </thead>\n",
       "  <tbody>\n",
       "    <tr>\n",
       "      <th>93932</th>\n",
       "      <td>WIRE</td>\n",
       "      <td>PEAR Corp</td>\n",
       "      <td>21144</td>\n",
       "      <td>NaN</td>\n",
       "      <td>1-Apr-21</td>\n",
       "      <td>PMT</td>\n",
       "      <td>USD</td>\n",
       "      <td>59914.50</td>\n",
       "      <td>59914.50</td>\n",
       "      <td>2.842E+11</td>\n",
       "      <td>28-Dec-20</td>\n",
       "      <td>28-Dec-20</td>\n",
       "      <td>Immediate</td>\n",
       "      <td>CM</td>\n",
       "      <td>USD</td>\n",
       "      <td>Goods</td>\n",
       "    </tr>\n",
       "    <tr>\n",
       "      <th>93933</th>\n",
       "      <td>WIRE</td>\n",
       "      <td>PEAR Corp</td>\n",
       "      <td>21144</td>\n",
       "      <td>NaN</td>\n",
       "      <td>1-Apr-21</td>\n",
       "      <td>PMT</td>\n",
       "      <td>USD</td>\n",
       "      <td>59914.50</td>\n",
       "      <td>59914.50</td>\n",
       "      <td>2.842E+11</td>\n",
       "      <td>28-Dec-20</td>\n",
       "      <td>28-Dec-20</td>\n",
       "      <td>Immediate</td>\n",
       "      <td>CM</td>\n",
       "      <td>USD</td>\n",
       "      <td>Goods</td>\n",
       "    </tr>\n",
       "    <tr>\n",
       "      <th>93934</th>\n",
       "      <td>WIRE</td>\n",
       "      <td>PEAR Corp</td>\n",
       "      <td>21144</td>\n",
       "      <td>NaN</td>\n",
       "      <td>1-Apr-21</td>\n",
       "      <td>PMT</td>\n",
       "      <td>USD</td>\n",
       "      <td>59914.50</td>\n",
       "      <td>59914.50</td>\n",
       "      <td>2.842E+11</td>\n",
       "      <td>28-Dec-20</td>\n",
       "      <td>28-Dec-20</td>\n",
       "      <td>Immediate</td>\n",
       "      <td>CM</td>\n",
       "      <td>USD</td>\n",
       "      <td>Goods</td>\n",
       "    </tr>\n",
       "    <tr>\n",
       "      <th>93935</th>\n",
       "      <td>WIRE</td>\n",
       "      <td>NAMS Corp</td>\n",
       "      <td>21145</td>\n",
       "      <td>NaN</td>\n",
       "      <td>1-Apr-21</td>\n",
       "      <td>PMT</td>\n",
       "      <td>AED</td>\n",
       "      <td>23574.33</td>\n",
       "      <td>23574.33</td>\n",
       "      <td>2.842E+11</td>\n",
       "      <td>24-Jan-21</td>\n",
       "      <td>24-Mar-21</td>\n",
       "      <td>60 Days from Inv Date</td>\n",
       "      <td>INV</td>\n",
       "      <td>AED</td>\n",
       "      <td>Goods</td>\n",
       "    </tr>\n",
       "    <tr>\n",
       "      <th>93936</th>\n",
       "      <td>CHEQUE</td>\n",
       "      <td>SENS Corp</td>\n",
       "      <td>48486</td>\n",
       "      <td>NaN</td>\n",
       "      <td>8-Apr-21</td>\n",
       "      <td>PMT</td>\n",
       "      <td>AED</td>\n",
       "      <td>1443.43</td>\n",
       "      <td>1443.43</td>\n",
       "      <td>2.842E+11</td>\n",
       "      <td>16-Feb-21</td>\n",
       "      <td>30-Mar-21</td>\n",
       "      <td>30 Days from EOM</td>\n",
       "      <td>INV</td>\n",
       "      <td>AED</td>\n",
       "      <td>Goods</td>\n",
       "    </tr>\n",
       "  </tbody>\n",
       "</table>\n",
       "</div>\n",
       "    <div class=\"colab-df-buttons\">\n",
       "\n",
       "  <div class=\"colab-df-container\">\n",
       "    <button class=\"colab-df-convert\" onclick=\"convertToInteractive('df-d8d63af4-2ea7-4940-a05e-c2775772c9a6')\"\n",
       "            title=\"Convert this dataframe to an interactive table.\"\n",
       "            style=\"display:none;\">\n",
       "\n",
       "  <svg xmlns=\"http://www.w3.org/2000/svg\" height=\"24px\" viewBox=\"0 -960 960 960\">\n",
       "    <path d=\"M120-120v-720h720v720H120Zm60-500h600v-160H180v160Zm220 220h160v-160H400v160Zm0 220h160v-160H400v160ZM180-400h160v-160H180v160Zm440 0h160v-160H620v160ZM180-180h160v-160H180v160Zm440 0h160v-160H620v160Z\"/>\n",
       "  </svg>\n",
       "    </button>\n",
       "\n",
       "  <style>\n",
       "    .colab-df-container {\n",
       "      display:flex;\n",
       "      gap: 12px;\n",
       "    }\n",
       "\n",
       "    .colab-df-convert {\n",
       "      background-color: #E8F0FE;\n",
       "      border: none;\n",
       "      border-radius: 50%;\n",
       "      cursor: pointer;\n",
       "      display: none;\n",
       "      fill: #1967D2;\n",
       "      height: 32px;\n",
       "      padding: 0 0 0 0;\n",
       "      width: 32px;\n",
       "    }\n",
       "\n",
       "    .colab-df-convert:hover {\n",
       "      background-color: #E2EBFA;\n",
       "      box-shadow: 0px 1px 2px rgba(60, 64, 67, 0.3), 0px 1px 3px 1px rgba(60, 64, 67, 0.15);\n",
       "      fill: #174EA6;\n",
       "    }\n",
       "\n",
       "    .colab-df-buttons div {\n",
       "      margin-bottom: 4px;\n",
       "    }\n",
       "\n",
       "    [theme=dark] .colab-df-convert {\n",
       "      background-color: #3B4455;\n",
       "      fill: #D2E3FC;\n",
       "    }\n",
       "\n",
       "    [theme=dark] .colab-df-convert:hover {\n",
       "      background-color: #434B5C;\n",
       "      box-shadow: 0px 1px 3px 1px rgba(0, 0, 0, 0.15);\n",
       "      filter: drop-shadow(0px 1px 2px rgba(0, 0, 0, 0.3));\n",
       "      fill: #FFFFFF;\n",
       "    }\n",
       "  </style>\n",
       "\n",
       "    <script>\n",
       "      const buttonEl =\n",
       "        document.querySelector('#df-d8d63af4-2ea7-4940-a05e-c2775772c9a6 button.colab-df-convert');\n",
       "      buttonEl.style.display =\n",
       "        google.colab.kernel.accessAllowed ? 'block' : 'none';\n",
       "\n",
       "      async function convertToInteractive(key) {\n",
       "        const element = document.querySelector('#df-d8d63af4-2ea7-4940-a05e-c2775772c9a6');\n",
       "        const dataTable =\n",
       "          await google.colab.kernel.invokeFunction('convertToInteractive',\n",
       "                                                    [key], {});\n",
       "        if (!dataTable) return;\n",
       "\n",
       "        const docLinkHtml = 'Like what you see? Visit the ' +\n",
       "          '<a target=\"_blank\" href=https://colab.research.google.com/notebooks/data_table.ipynb>data table notebook</a>'\n",
       "          + ' to learn more about interactive tables.';\n",
       "        element.innerHTML = '';\n",
       "        dataTable['output_type'] = 'display_data';\n",
       "        await google.colab.output.renderOutput(dataTable, element);\n",
       "        const docLink = document.createElement('div');\n",
       "        docLink.innerHTML = docLinkHtml;\n",
       "        element.appendChild(docLink);\n",
       "      }\n",
       "    </script>\n",
       "  </div>\n",
       "\n",
       "\n",
       "<div id=\"df-0341fb93-c7f1-4cca-b4c5-cf96ce5e2d92\">\n",
       "  <button class=\"colab-df-quickchart\" onclick=\"quickchart('df-0341fb93-c7f1-4cca-b4c5-cf96ce5e2d92')\"\n",
       "            title=\"Suggest charts\"\n",
       "            style=\"display:none;\">\n",
       "\n",
       "<svg xmlns=\"http://www.w3.org/2000/svg\" height=\"24px\"viewBox=\"0 0 24 24\"\n",
       "     width=\"24px\">\n",
       "    <g>\n",
       "        <path d=\"M19 3H5c-1.1 0-2 .9-2 2v14c0 1.1.9 2 2 2h14c1.1 0 2-.9 2-2V5c0-1.1-.9-2-2-2zM9 17H7v-7h2v7zm4 0h-2V7h2v10zm4 0h-2v-4h2v4z\"/>\n",
       "    </g>\n",
       "</svg>\n",
       "  </button>\n",
       "\n",
       "<style>\n",
       "  .colab-df-quickchart {\n",
       "      --bg-color: #E8F0FE;\n",
       "      --fill-color: #1967D2;\n",
       "      --hover-bg-color: #E2EBFA;\n",
       "      --hover-fill-color: #174EA6;\n",
       "      --disabled-fill-color: #AAA;\n",
       "      --disabled-bg-color: #DDD;\n",
       "  }\n",
       "\n",
       "  [theme=dark] .colab-df-quickchart {\n",
       "      --bg-color: #3B4455;\n",
       "      --fill-color: #D2E3FC;\n",
       "      --hover-bg-color: #434B5C;\n",
       "      --hover-fill-color: #FFFFFF;\n",
       "      --disabled-bg-color: #3B4455;\n",
       "      --disabled-fill-color: #666;\n",
       "  }\n",
       "\n",
       "  .colab-df-quickchart {\n",
       "    background-color: var(--bg-color);\n",
       "    border: none;\n",
       "    border-radius: 50%;\n",
       "    cursor: pointer;\n",
       "    display: none;\n",
       "    fill: var(--fill-color);\n",
       "    height: 32px;\n",
       "    padding: 0;\n",
       "    width: 32px;\n",
       "  }\n",
       "\n",
       "  .colab-df-quickchart:hover {\n",
       "    background-color: var(--hover-bg-color);\n",
       "    box-shadow: 0 1px 2px rgba(60, 64, 67, 0.3), 0 1px 3px 1px rgba(60, 64, 67, 0.15);\n",
       "    fill: var(--button-hover-fill-color);\n",
       "  }\n",
       "\n",
       "  .colab-df-quickchart-complete:disabled,\n",
       "  .colab-df-quickchart-complete:disabled:hover {\n",
       "    background-color: var(--disabled-bg-color);\n",
       "    fill: var(--disabled-fill-color);\n",
       "    box-shadow: none;\n",
       "  }\n",
       "\n",
       "  .colab-df-spinner {\n",
       "    border: 2px solid var(--fill-color);\n",
       "    border-color: transparent;\n",
       "    border-bottom-color: var(--fill-color);\n",
       "    animation:\n",
       "      spin 1s steps(1) infinite;\n",
       "  }\n",
       "\n",
       "  @keyframes spin {\n",
       "    0% {\n",
       "      border-color: transparent;\n",
       "      border-bottom-color: var(--fill-color);\n",
       "      border-left-color: var(--fill-color);\n",
       "    }\n",
       "    20% {\n",
       "      border-color: transparent;\n",
       "      border-left-color: var(--fill-color);\n",
       "      border-top-color: var(--fill-color);\n",
       "    }\n",
       "    30% {\n",
       "      border-color: transparent;\n",
       "      border-left-color: var(--fill-color);\n",
       "      border-top-color: var(--fill-color);\n",
       "      border-right-color: var(--fill-color);\n",
       "    }\n",
       "    40% {\n",
       "      border-color: transparent;\n",
       "      border-right-color: var(--fill-color);\n",
       "      border-top-color: var(--fill-color);\n",
       "    }\n",
       "    60% {\n",
       "      border-color: transparent;\n",
       "      border-right-color: var(--fill-color);\n",
       "    }\n",
       "    80% {\n",
       "      border-color: transparent;\n",
       "      border-right-color: var(--fill-color);\n",
       "      border-bottom-color: var(--fill-color);\n",
       "    }\n",
       "    90% {\n",
       "      border-color: transparent;\n",
       "      border-bottom-color: var(--fill-color);\n",
       "    }\n",
       "  }\n",
       "</style>\n",
       "\n",
       "  <script>\n",
       "    async function quickchart(key) {\n",
       "      const quickchartButtonEl =\n",
       "        document.querySelector('#' + key + ' button');\n",
       "      quickchartButtonEl.disabled = true;  // To prevent multiple clicks.\n",
       "      quickchartButtonEl.classList.add('colab-df-spinner');\n",
       "      try {\n",
       "        const charts = await google.colab.kernel.invokeFunction(\n",
       "            'suggestCharts', [key], {});\n",
       "      } catch (error) {\n",
       "        console.error('Error during call to suggestCharts:', error);\n",
       "      }\n",
       "      quickchartButtonEl.classList.remove('colab-df-spinner');\n",
       "      quickchartButtonEl.classList.add('colab-df-quickchart-complete');\n",
       "    }\n",
       "    (() => {\n",
       "      let quickchartButtonEl =\n",
       "        document.querySelector('#df-0341fb93-c7f1-4cca-b4c5-cf96ce5e2d92 button');\n",
       "      quickchartButtonEl.style.display =\n",
       "        google.colab.kernel.accessAllowed ? 'block' : 'none';\n",
       "    })();\n",
       "  </script>\n",
       "</div>\n",
       "\n",
       "    </div>\n",
       "  </div>\n"
      ],
      "text/plain": [
       "      RECEIPT_METHOD CUSTOMER_NAME  CUSTOMER_NUMBER  RECEIPT_DOC_NO  \\\n",
       "93932           WIRE     PEAR Corp            21144             NaN   \n",
       "93933           WIRE     PEAR Corp            21144             NaN   \n",
       "93934           WIRE     PEAR Corp            21144             NaN   \n",
       "93935           WIRE     NAMS Corp            21145             NaN   \n",
       "93936         CHEQUE     SENS Corp            48486             NaN   \n",
       "\n",
       "      RECEIPT_DATE CLASS CURRENCY_CODE  Local Amount  USD Amount  \\\n",
       "93932     1-Apr-21   PMT           USD      59914.50    59914.50   \n",
       "93933     1-Apr-21   PMT           USD      59914.50    59914.50   \n",
       "93934     1-Apr-21   PMT           USD      59914.50    59914.50   \n",
       "93935     1-Apr-21   PMT           AED      23574.33    23574.33   \n",
       "93936     8-Apr-21   PMT           AED       1443.43     1443.43   \n",
       "\n",
       "      INVOICE_ALLOCATED INVOICE_CREATION_DATE   DUE_DATE  \\\n",
       "93932         2.842E+11             28-Dec-20  28-Dec-20   \n",
       "93933         2.842E+11             28-Dec-20  28-Dec-20   \n",
       "93934         2.842E+11             28-Dec-20  28-Dec-20   \n",
       "93935         2.842E+11             24-Jan-21  24-Mar-21   \n",
       "93936         2.842E+11             16-Feb-21  30-Mar-21   \n",
       "\n",
       "                PAYMENT_TERM INVOICE_CLASS INVOICE_CURRENCY_CODE INVOICE_TYPE  \n",
       "93932              Immediate            CM                   USD        Goods  \n",
       "93933              Immediate            CM                   USD        Goods  \n",
       "93934              Immediate            CM                   USD        Goods  \n",
       "93935  60 Days from Inv Date           INV                   AED        Goods  \n",
       "93936       30 Days from EOM           INV                   AED        Goods  "
      ]
     },
     "execution_count": 4,
     "metadata": {},
     "output_type": "execute_result"
    }
   ],
   "source": [
    "df.tail()"
   ]
  },
  {
   "cell_type": "code",
   "execution_count": null,
   "metadata": {
    "colab": {
     "base_uri": "https://localhost:8080/"
    },
    "id": "1IV3qTqgpc5D",
    "outputId": "4b878fdd-901f-4169-a430-5a4672e23b62"
   },
   "outputs": [
    {
     "name": "stdout",
     "output_type": "stream",
     "text": [
      "<class 'pandas.core.frame.DataFrame'>\n",
      "RangeIndex: 93937 entries, 0 to 93936\n",
      "Data columns (total 16 columns):\n",
      " #   Column                 Non-Null Count  Dtype  \n",
      "---  ------                 --------------  -----  \n",
      " 0   RECEIPT_METHOD         93937 non-null  object \n",
      " 1   CUSTOMER_NAME          93937 non-null  object \n",
      " 2   CUSTOMER_NUMBER        93937 non-null  int64  \n",
      " 3   RECEIPT_DOC_NO         93908 non-null  float64\n",
      " 4   RECEIPT_DATE           93937 non-null  object \n",
      " 5   CLASS                  93937 non-null  object \n",
      " 6   CURRENCY_CODE          93937 non-null  object \n",
      " 7   Local Amount           93937 non-null  float64\n",
      " 8   USD Amount             93937 non-null  float64\n",
      " 9   INVOICE_ALLOCATED      93937 non-null  object \n",
      " 10  INVOICE_CREATION_DATE  93937 non-null  object \n",
      " 11  DUE_DATE               93937 non-null  object \n",
      " 12  PAYMENT_TERM           93937 non-null  object \n",
      " 13  INVOICE_CLASS          93937 non-null  object \n",
      " 14  INVOICE_CURRENCY_CODE  93937 non-null  object \n",
      " 15  INVOICE_TYPE           93937 non-null  object \n",
      "dtypes: float64(3), int64(1), object(12)\n",
      "memory usage: 11.5+ MB\n"
     ]
    }
   ],
   "source": [
    "df.info()"
   ]
  },
  {
   "cell_type": "code",
   "execution_count": null,
   "metadata": {
    "colab": {
     "base_uri": "https://localhost:8080/",
     "height": 300
    },
    "id": "s7waDaCupfOr",
    "outputId": "d19ba507-f8c3-456c-83f9-769242daaee3"
   },
   "outputs": [
    {
     "data": {
      "application/vnd.google.colaboratory.intrinsic+json": {
       "summary": "{\n  \"name\": \"df\",\n  \"rows\": 8,\n  \"fields\": [\n    {\n      \"column\": \"CUSTOMER_NUMBER\",\n      \"properties\": {\n        \"dtype\": \"number\",\n        \"std\": 32433.366825091412,\n        \"min\": 1044.0,\n        \"max\": 93937.0,\n        \"num_unique_values\": 8,\n        \"samples\": [\n          12753.874032596315,\n          4003.0,\n          93937.0\n        ],\n        \"semantic_type\": \"\",\n        \"description\": \"\"\n      }\n    },\n    {\n      \"column\": \"RECEIPT_DOC_NO\",\n      \"properties\": {\n        \"dtype\": \"number\",\n        \"std\": 99312091012.92812,\n        \"min\": 93908.0,\n        \"max\": 297000000000.0,\n        \"num_unique_values\": 8,\n        \"samples\": [\n          158390798228.0574,\n          151000000000.0,\n          93908.0\n        ],\n        \"semantic_type\": \"\",\n        \"description\": \"\"\n      }\n    },\n    {\n      \"column\": \"Local Amount\",\n      \"properties\": {\n        \"dtype\": \"number\",\n        \"std\": 3655639.019907858,\n        \"min\": 0.0,\n        \"max\": 10849828.8,\n        \"num_unique_values\": 8,\n        \"samples\": [\n          1066469.7796031702,\n          405343.76,\n          93937.0\n        ],\n        \"semantic_type\": \"\",\n        \"description\": \"\"\n      }\n    },\n    {\n      \"column\": \"USD Amount\",\n      \"properties\": {\n        \"dtype\": \"number\",\n        \"std\": 3729837.8519399012,\n        \"min\": 0.0,\n        \"max\": 10849828.8,\n        \"num_unique_values\": 8,\n        \"samples\": [\n          531201.3403870151,\n          181001.0451,\n          93937.0\n        ],\n        \"semantic_type\": \"\",\n        \"description\": \"\"\n      }\n    }\n  ]\n}",
       "type": "dataframe"
      },
      "text/html": [
       "\n",
       "  <div id=\"df-6338bea5-e85e-4488-9ef4-0c31d801522d\" class=\"colab-df-container\">\n",
       "    <div>\n",
       "<style scoped>\n",
       "    .dataframe tbody tr th:only-of-type {\n",
       "        vertical-align: middle;\n",
       "    }\n",
       "\n",
       "    .dataframe tbody tr th {\n",
       "        vertical-align: top;\n",
       "    }\n",
       "\n",
       "    .dataframe thead th {\n",
       "        text-align: right;\n",
       "    }\n",
       "</style>\n",
       "<table border=\"1\" class=\"dataframe\">\n",
       "  <thead>\n",
       "    <tr style=\"text-align: right;\">\n",
       "      <th></th>\n",
       "      <th>CUSTOMER_NUMBER</th>\n",
       "      <th>RECEIPT_DOC_NO</th>\n",
       "      <th>Local Amount</th>\n",
       "      <th>USD Amount</th>\n",
       "    </tr>\n",
       "  </thead>\n",
       "  <tbody>\n",
       "    <tr>\n",
       "      <th>count</th>\n",
       "      <td>93937.000000</td>\n",
       "      <td>9.390800e+04</td>\n",
       "      <td>9.393700e+04</td>\n",
       "      <td>9.393700e+04</td>\n",
       "    </tr>\n",
       "    <tr>\n",
       "      <th>mean</th>\n",
       "      <td>12753.874033</td>\n",
       "      <td>1.583908e+11</td>\n",
       "      <td>1.066470e+06</td>\n",
       "      <td>5.312013e+05</td>\n",
       "    </tr>\n",
       "    <tr>\n",
       "      <th>std</th>\n",
       "      <td>14274.170829</td>\n",
       "      <td>3.885359e+10</td>\n",
       "      <td>1.546901e+06</td>\n",
       "      <td>9.508693e+05</td>\n",
       "    </tr>\n",
       "    <tr>\n",
       "      <th>min</th>\n",
       "      <td>1044.000000</td>\n",
       "      <td>1.421000e+10</td>\n",
       "      <td>0.000000e+00</td>\n",
       "      <td>0.000000e+00</td>\n",
       "    </tr>\n",
       "    <tr>\n",
       "      <th>25%</th>\n",
       "      <td>1888.000000</td>\n",
       "      <td>1.470000e+11</td>\n",
       "      <td>8.198039e+04</td>\n",
       "      <td>3.766298e+04</td>\n",
       "    </tr>\n",
       "    <tr>\n",
       "      <th>50%</th>\n",
       "      <td>4003.000000</td>\n",
       "      <td>1.510000e+11</td>\n",
       "      <td>4.053438e+05</td>\n",
       "      <td>1.810010e+05</td>\n",
       "    </tr>\n",
       "    <tr>\n",
       "      <th>75%</th>\n",
       "      <td>20884.000000</td>\n",
       "      <td>1.690000e+11</td>\n",
       "      <td>1.425606e+06</td>\n",
       "      <td>5.996137e+05</td>\n",
       "    </tr>\n",
       "    <tr>\n",
       "      <th>max</th>\n",
       "      <td>52940.000000</td>\n",
       "      <td>2.970000e+11</td>\n",
       "      <td>1.084983e+07</td>\n",
       "      <td>1.084983e+07</td>\n",
       "    </tr>\n",
       "  </tbody>\n",
       "</table>\n",
       "</div>\n",
       "    <div class=\"colab-df-buttons\">\n",
       "\n",
       "  <div class=\"colab-df-container\">\n",
       "    <button class=\"colab-df-convert\" onclick=\"convertToInteractive('df-6338bea5-e85e-4488-9ef4-0c31d801522d')\"\n",
       "            title=\"Convert this dataframe to an interactive table.\"\n",
       "            style=\"display:none;\">\n",
       "\n",
       "  <svg xmlns=\"http://www.w3.org/2000/svg\" height=\"24px\" viewBox=\"0 -960 960 960\">\n",
       "    <path d=\"M120-120v-720h720v720H120Zm60-500h600v-160H180v160Zm220 220h160v-160H400v160Zm0 220h160v-160H400v160ZM180-400h160v-160H180v160Zm440 0h160v-160H620v160ZM180-180h160v-160H180v160Zm440 0h160v-160H620v160Z\"/>\n",
       "  </svg>\n",
       "    </button>\n",
       "\n",
       "  <style>\n",
       "    .colab-df-container {\n",
       "      display:flex;\n",
       "      gap: 12px;\n",
       "    }\n",
       "\n",
       "    .colab-df-convert {\n",
       "      background-color: #E8F0FE;\n",
       "      border: none;\n",
       "      border-radius: 50%;\n",
       "      cursor: pointer;\n",
       "      display: none;\n",
       "      fill: #1967D2;\n",
       "      height: 32px;\n",
       "      padding: 0 0 0 0;\n",
       "      width: 32px;\n",
       "    }\n",
       "\n",
       "    .colab-df-convert:hover {\n",
       "      background-color: #E2EBFA;\n",
       "      box-shadow: 0px 1px 2px rgba(60, 64, 67, 0.3), 0px 1px 3px 1px rgba(60, 64, 67, 0.15);\n",
       "      fill: #174EA6;\n",
       "    }\n",
       "\n",
       "    .colab-df-buttons div {\n",
       "      margin-bottom: 4px;\n",
       "    }\n",
       "\n",
       "    [theme=dark] .colab-df-convert {\n",
       "      background-color: #3B4455;\n",
       "      fill: #D2E3FC;\n",
       "    }\n",
       "\n",
       "    [theme=dark] .colab-df-convert:hover {\n",
       "      background-color: #434B5C;\n",
       "      box-shadow: 0px 1px 3px 1px rgba(0, 0, 0, 0.15);\n",
       "      filter: drop-shadow(0px 1px 2px rgba(0, 0, 0, 0.3));\n",
       "      fill: #FFFFFF;\n",
       "    }\n",
       "  </style>\n",
       "\n",
       "    <script>\n",
       "      const buttonEl =\n",
       "        document.querySelector('#df-6338bea5-e85e-4488-9ef4-0c31d801522d button.colab-df-convert');\n",
       "      buttonEl.style.display =\n",
       "        google.colab.kernel.accessAllowed ? 'block' : 'none';\n",
       "\n",
       "      async function convertToInteractive(key) {\n",
       "        const element = document.querySelector('#df-6338bea5-e85e-4488-9ef4-0c31d801522d');\n",
       "        const dataTable =\n",
       "          await google.colab.kernel.invokeFunction('convertToInteractive',\n",
       "                                                    [key], {});\n",
       "        if (!dataTable) return;\n",
       "\n",
       "        const docLinkHtml = 'Like what you see? Visit the ' +\n",
       "          '<a target=\"_blank\" href=https://colab.research.google.com/notebooks/data_table.ipynb>data table notebook</a>'\n",
       "          + ' to learn more about interactive tables.';\n",
       "        element.innerHTML = '';\n",
       "        dataTable['output_type'] = 'display_data';\n",
       "        await google.colab.output.renderOutput(dataTable, element);\n",
       "        const docLink = document.createElement('div');\n",
       "        docLink.innerHTML = docLinkHtml;\n",
       "        element.appendChild(docLink);\n",
       "      }\n",
       "    </script>\n",
       "  </div>\n",
       "\n",
       "\n",
       "<div id=\"df-c7c4026b-a758-4320-811e-4c90effd0194\">\n",
       "  <button class=\"colab-df-quickchart\" onclick=\"quickchart('df-c7c4026b-a758-4320-811e-4c90effd0194')\"\n",
       "            title=\"Suggest charts\"\n",
       "            style=\"display:none;\">\n",
       "\n",
       "<svg xmlns=\"http://www.w3.org/2000/svg\" height=\"24px\"viewBox=\"0 0 24 24\"\n",
       "     width=\"24px\">\n",
       "    <g>\n",
       "        <path d=\"M19 3H5c-1.1 0-2 .9-2 2v14c0 1.1.9 2 2 2h14c1.1 0 2-.9 2-2V5c0-1.1-.9-2-2-2zM9 17H7v-7h2v7zm4 0h-2V7h2v10zm4 0h-2v-4h2v4z\"/>\n",
       "    </g>\n",
       "</svg>\n",
       "  </button>\n",
       "\n",
       "<style>\n",
       "  .colab-df-quickchart {\n",
       "      --bg-color: #E8F0FE;\n",
       "      --fill-color: #1967D2;\n",
       "      --hover-bg-color: #E2EBFA;\n",
       "      --hover-fill-color: #174EA6;\n",
       "      --disabled-fill-color: #AAA;\n",
       "      --disabled-bg-color: #DDD;\n",
       "  }\n",
       "\n",
       "  [theme=dark] .colab-df-quickchart {\n",
       "      --bg-color: #3B4455;\n",
       "      --fill-color: #D2E3FC;\n",
       "      --hover-bg-color: #434B5C;\n",
       "      --hover-fill-color: #FFFFFF;\n",
       "      --disabled-bg-color: #3B4455;\n",
       "      --disabled-fill-color: #666;\n",
       "  }\n",
       "\n",
       "  .colab-df-quickchart {\n",
       "    background-color: var(--bg-color);\n",
       "    border: none;\n",
       "    border-radius: 50%;\n",
       "    cursor: pointer;\n",
       "    display: none;\n",
       "    fill: var(--fill-color);\n",
       "    height: 32px;\n",
       "    padding: 0;\n",
       "    width: 32px;\n",
       "  }\n",
       "\n",
       "  .colab-df-quickchart:hover {\n",
       "    background-color: var(--hover-bg-color);\n",
       "    box-shadow: 0 1px 2px rgba(60, 64, 67, 0.3), 0 1px 3px 1px rgba(60, 64, 67, 0.15);\n",
       "    fill: var(--button-hover-fill-color);\n",
       "  }\n",
       "\n",
       "  .colab-df-quickchart-complete:disabled,\n",
       "  .colab-df-quickchart-complete:disabled:hover {\n",
       "    background-color: var(--disabled-bg-color);\n",
       "    fill: var(--disabled-fill-color);\n",
       "    box-shadow: none;\n",
       "  }\n",
       "\n",
       "  .colab-df-spinner {\n",
       "    border: 2px solid var(--fill-color);\n",
       "    border-color: transparent;\n",
       "    border-bottom-color: var(--fill-color);\n",
       "    animation:\n",
       "      spin 1s steps(1) infinite;\n",
       "  }\n",
       "\n",
       "  @keyframes spin {\n",
       "    0% {\n",
       "      border-color: transparent;\n",
       "      border-bottom-color: var(--fill-color);\n",
       "      border-left-color: var(--fill-color);\n",
       "    }\n",
       "    20% {\n",
       "      border-color: transparent;\n",
       "      border-left-color: var(--fill-color);\n",
       "      border-top-color: var(--fill-color);\n",
       "    }\n",
       "    30% {\n",
       "      border-color: transparent;\n",
       "      border-left-color: var(--fill-color);\n",
       "      border-top-color: var(--fill-color);\n",
       "      border-right-color: var(--fill-color);\n",
       "    }\n",
       "    40% {\n",
       "      border-color: transparent;\n",
       "      border-right-color: var(--fill-color);\n",
       "      border-top-color: var(--fill-color);\n",
       "    }\n",
       "    60% {\n",
       "      border-color: transparent;\n",
       "      border-right-color: var(--fill-color);\n",
       "    }\n",
       "    80% {\n",
       "      border-color: transparent;\n",
       "      border-right-color: var(--fill-color);\n",
       "      border-bottom-color: var(--fill-color);\n",
       "    }\n",
       "    90% {\n",
       "      border-color: transparent;\n",
       "      border-bottom-color: var(--fill-color);\n",
       "    }\n",
       "  }\n",
       "</style>\n",
       "\n",
       "  <script>\n",
       "    async function quickchart(key) {\n",
       "      const quickchartButtonEl =\n",
       "        document.querySelector('#' + key + ' button');\n",
       "      quickchartButtonEl.disabled = true;  // To prevent multiple clicks.\n",
       "      quickchartButtonEl.classList.add('colab-df-spinner');\n",
       "      try {\n",
       "        const charts = await google.colab.kernel.invokeFunction(\n",
       "            'suggestCharts', [key], {});\n",
       "      } catch (error) {\n",
       "        console.error('Error during call to suggestCharts:', error);\n",
       "      }\n",
       "      quickchartButtonEl.classList.remove('colab-df-spinner');\n",
       "      quickchartButtonEl.classList.add('colab-df-quickchart-complete');\n",
       "    }\n",
       "    (() => {\n",
       "      let quickchartButtonEl =\n",
       "        document.querySelector('#df-c7c4026b-a758-4320-811e-4c90effd0194 button');\n",
       "      quickchartButtonEl.style.display =\n",
       "        google.colab.kernel.accessAllowed ? 'block' : 'none';\n",
       "    })();\n",
       "  </script>\n",
       "</div>\n",
       "\n",
       "    </div>\n",
       "  </div>\n"
      ],
      "text/plain": [
       "       CUSTOMER_NUMBER  RECEIPT_DOC_NO  Local Amount    USD Amount\n",
       "count     93937.000000    9.390800e+04  9.393700e+04  9.393700e+04\n",
       "mean      12753.874033    1.583908e+11  1.066470e+06  5.312013e+05\n",
       "std       14274.170829    3.885359e+10  1.546901e+06  9.508693e+05\n",
       "min        1044.000000    1.421000e+10  0.000000e+00  0.000000e+00\n",
       "25%        1888.000000    1.470000e+11  8.198039e+04  3.766298e+04\n",
       "50%        4003.000000    1.510000e+11  4.053438e+05  1.810010e+05\n",
       "75%       20884.000000    1.690000e+11  1.425606e+06  5.996137e+05\n",
       "max       52940.000000    2.970000e+11  1.084983e+07  1.084983e+07"
      ]
     },
     "execution_count": 6,
     "metadata": {},
     "output_type": "execute_result"
    }
   ],
   "source": [
    "df.describe()"
   ]
  },
  {
   "cell_type": "code",
   "execution_count": null,
   "metadata": {
    "colab": {
     "base_uri": "https://localhost:8080/"
    },
    "id": "h63euGtCpi3u",
    "outputId": "f9074bce-f7bd-4f8e-fe84-cc1158c3b8a6"
   },
   "outputs": [
    {
     "data": {
      "text/plain": [
       "(93937, 16)"
      ]
     },
     "execution_count": 7,
     "metadata": {},
     "output_type": "execute_result"
    }
   ],
   "source": [
    "df.shape"
   ]
  },
  {
   "cell_type": "markdown",
   "metadata": {
    "id": "1aeHBinpDVmP"
   },
   "source": [
    "## 5. Data preprocessing-Data cleaning :"
   ]
  },
  {
   "cell_type": "code",
   "execution_count": null,
   "metadata": {
    "id": "5knOQRIWpmZU"
   },
   "outputs": [],
   "source": [
    "\n",
    "df['RECEIPT_DATE'] = pd.to_datetime(df['RECEIPT_DATE'], format='%d-%b-%y')\n",
    "df['DUE_DATE'] = pd.to_datetime(df['DUE_DATE'], format='%d-%b-%y')"
   ]
  },
  {
   "cell_type": "code",
   "execution_count": null,
   "metadata": {
    "colab": {
     "base_uri": "https://localhost:8080/"
    },
    "id": "AB4kyVaHqAKR",
    "outputId": "628808f1-72ff-4394-d545-48803b9f6a61"
   },
   "outputs": [
    {
     "name": "stdout",
     "output_type": "stream",
     "text": [
      "Delayed_Payment\n",
      "1    61978\n",
      "0    31959\n",
      "Name: count, dtype: int64\n"
     ]
    }
   ],
   "source": [
    "# Create the target variable\n",
    "df['Delayed_Payment'] = (df['RECEIPT_DATE'] > df['DUE_DATE']).astype(int)\n",
    "\n",
    "# Check the distribution of the new target variable\n",
    "print(df['Delayed_Payment'].value_counts())\n"
   ]
  },
  {
   "cell_type": "code",
   "execution_count": null,
   "metadata": {
    "id": "ehSWZo03qH5i"
   },
   "outputs": [],
   "source": [
    "drop_cols = ['CUSTOMER_NAME', 'CUSTOMER_NUMBER', 'RECEIPT_DOC_NO', 'INVOICE_ALLOCATED', 'INVOICE_CREATION_DATE']\n",
    "df.drop(columns=drop_cols, inplace=True)\n"
   ]
  },
  {
   "cell_type": "code",
   "execution_count": null,
   "metadata": {
    "colab": {
     "base_uri": "https://localhost:8080/"
    },
    "id": "qbuLOaTCqUb2",
    "outputId": "2e0e475a-099f-4ae9-d2ea-f257ddb417b8"
   },
   "outputs": [
    {
     "name": "stdout",
     "output_type": "stream",
     "text": [
      "  RECEIPT_METHOD RECEIPT_DATE CLASS CURRENCY_CODE  Local Amount    USD Amount  \\\n",
      "0           WIRE   2021-04-20   PMT           USD     370990.92  101018.63040   \n",
      "1           WIRE   2021-01-31   PMT           SAR     183750.00   48990.21133   \n",
      "2           WIRE   2021-01-31   PMT           SAR     157500.00   41991.60971   \n",
      "3           WIRE   2021-01-31   PMT           SAR     157500.00   41991.60971   \n",
      "4           WIRE   2021-01-31   PMT           SAR     157500.00   41991.60971   \n",
      "\n",
      "    DUE_DATE           PAYMENT_TERM INVOICE_CLASS INVOICE_CURRENCY_CODE  \\\n",
      "0 2020-12-30       30 Days from EOM           INV                   AED   \n",
      "1 2021-01-28  30 Days from Inv Date           INV                   SAR   \n",
      "2 2021-03-01  30 Days from Inv Date           INV                   SAR   \n",
      "3 2021-01-14  30 Days from Inv Date           INV                   SAR   \n",
      "4 2021-01-14  30 Days from Inv Date           INV                   SAR   \n",
      "\n",
      "  INVOICE_TYPE  Delayed_Payment  \n",
      "0    Non Goods                1  \n",
      "1    Non Goods                1  \n",
      "2    Non Goods                0  \n",
      "3    Non Goods                1  \n",
      "4    Non Goods                1  \n"
     ]
    }
   ],
   "source": [
    "print(df.head())"
   ]
  },
  {
   "cell_type": "code",
   "execution_count": null,
   "metadata": {
    "colab": {
     "base_uri": "https://localhost:8080/"
    },
    "id": "WBdaKi63qquX",
    "outputId": "250d364a-4a21-4fb3-b9e1-d03fd7416095"
   },
   "outputs": [
    {
     "data": {
      "text/plain": [
       "(93937, 12)"
      ]
     },
     "execution_count": 12,
     "metadata": {},
     "output_type": "execute_result"
    }
   ],
   "source": [
    "df.shape"
   ]
  },
  {
   "cell_type": "code",
   "execution_count": null,
   "metadata": {
    "colab": {
     "base_uri": "https://localhost:8080/"
    },
    "id": "c_gTF63grCpY",
    "outputId": "4d0cef2a-8660-463d-cca0-7c1827b63cf2"
   },
   "outputs": [
    {
     "name": "stdout",
     "output_type": "stream",
     "text": [
      "RECEIPT_METHOD           0\n",
      "RECEIPT_DATE             0\n",
      "CLASS                    0\n",
      "CURRENCY_CODE            0\n",
      "Local Amount             0\n",
      "USD Amount               0\n",
      "DUE_DATE                 0\n",
      "PAYMENT_TERM             0\n",
      "INVOICE_CLASS            0\n",
      "INVOICE_CURRENCY_CODE    0\n",
      "INVOICE_TYPE             0\n",
      "Delayed_Payment          0\n",
      "dtype: int64\n"
     ]
    }
   ],
   "source": [
    "print(df.isnull().sum())"
   ]
  },
  {
   "cell_type": "code",
   "execution_count": null,
   "metadata": {
    "colab": {
     "base_uri": "https://localhost:8080/"
    },
    "id": "9dtzTNgkrYJf",
    "outputId": "7c2a5f32-8af5-4123-c71e-d86bfad2df0c"
   },
   "outputs": [
    {
     "name": "stdout",
     "output_type": "stream",
     "text": [
      "67818\n"
     ]
    }
   ],
   "source": [
    "print(df.duplicated().sum())"
   ]
  },
  {
   "cell_type": "code",
   "execution_count": null,
   "metadata": {
    "id": "tqmkcQJ-rf6g"
   },
   "outputs": [],
   "source": [
    "df = df.drop_duplicates()\n",
    "df.reset_index(drop=True, inplace=True)"
   ]
  },
  {
   "cell_type": "code",
   "execution_count": null,
   "metadata": {
    "colab": {
     "base_uri": "https://localhost:8080/"
    },
    "id": "cd1rGZv_rm8_",
    "outputId": "e9014834-eb9e-4eaa-b895-ce43a4a067a6"
   },
   "outputs": [
    {
     "name": "stdout",
     "output_type": "stream",
     "text": [
      "0\n",
      "(26119, 12)\n"
     ]
    }
   ],
   "source": [
    "print(df.duplicated().sum())\n",
    "print(df.shape)"
   ]
  },
  {
   "cell_type": "markdown",
   "metadata": {
    "id": "ZjwdIQxSqp1J"
   },
   "source": [
    "## 6. **Exploratory Data Analysis (EDA):**"
   ]
  },
  {
   "cell_type": "code",
   "execution_count": null,
   "metadata": {
    "colab": {
     "base_uri": "https://localhost:8080/",
     "height": 472
    },
    "id": "o-6WrSSxsEn1",
    "outputId": "03be7999-8bdd-40f3-8dc4-b73cad0da0dd"
   },
   "outputs": [
    {
     "data": {
      "image/png": "[encoded data removed]",
      "text/plain": [
       "<Figure size 640x480 with 1 Axes>"
      ]
     },
     "metadata": {},
     "output_type": "display_data"
    }
   ],
   "source": [
    "sns.countplot(x='Delayed_Payment', data=df)\n",
    "plt.title(\"Distribution of Delayed Payments\")\n",
    "plt.show()\n"
   ]
  },
  {
   "cell_type": "markdown",
   "metadata": {
    "id": "F1vsH5zCblAi"
   },
   "source": [
    "### Insights from the Distribution of Delayed Payments\n",
    "\n",
    "1. The x-axis represents whether a payment was delayed (`1`) or not (`0`).\n",
    "2. The y-axis shows the count of instances for each category.\n",
    "3. The number of delayed payments (`1`) is significantly higher than the number of non-delayed payments (`0`).\n",
    "4. This suggests that delayed payments are more common in the dataset.\n",
    "5. The imbalance in delayed vs. non-delayed payments could indicate potential risks for financial institutions or businesses relying on timely payments.\n",
    "6. Further investigation may be needed to understand the causes of delays and implement mitigation strategies.\n"
   ]
  },
  {
   "cell_type": "code",
   "execution_count": null,
   "metadata": {
    "colab": {
     "base_uri": "https://localhost:8080/",
     "height": 487
    },
    "id": "3R2u_3qUsd2m",
    "outputId": "237f12b5-54ed-4b25-fbca-2ca6e682a415"
   },
   "outputs": [
    {
     "data": {
      "image/png": "[encoded data removed]",
      "text/plain": [
       "<Figure size 1200x500 with 2 Axes>"
      ]
     },
     "metadata": {},
     "output_type": "display_data"
    }
   ],
   "source": [
    "fig, axes = plt.subplots(1, 2, figsize=(12, 5))\n",
    "sns.histplot(df['Local Amount'], bins=30, kde=True, ax=axes[0])\n",
    "axes[0].set_title(\"Distribution of Local Amount\")\n",
    "sns.histplot(df['USD Amount'], bins=30, kde=True, ax=axes[1])\n",
    "axes[1].set_title(\"Distribution of USD Amount\")\n",
    "plt.show()\n"
   ]
  },
  {
   "cell_type": "markdown",
   "metadata": {
    "id": "8-9rRwhvcalO"
   },
   "source": [
    "### Insights on Local & USD Amount Distributions\n",
    "\n",
    "- Both distributions are **highly right-skewed**, with most transactions having **small amounts**.  \n",
    "- A **few high-value transactions** exist, creating a long tail.  \n",
    "- The **patterns are similar** in both local and USD amounts.  \n",
    "- Businesses should **focus on high-volume, low-value transactions** while monitoring **large-value outliers** for risk management.  \n"
   ]
  },
  {
   "cell_type": "code",
   "execution_count": null,
   "metadata": {
    "colab": {
     "base_uri": "https://localhost:8080/",
     "height": 482
    },
    "id": "yC3V5Afes2N1",
    "outputId": "a00f6c36-ce3b-4018-c618-041a9ba4c9f3"
   },
   "outputs": [
    {
     "data": {
      "image/png": "[encoded data removed]",
      "text/plain": [
       "<Figure size 640x480 with 1 Axes>"
      ]
     },
     "metadata": {},
     "output_type": "display_data"
    }
   ],
   "source": [
    "pd.crosstab(df['INVOICE_CLASS'], df['Delayed_Payment']).plot(kind='bar', stacked=True)\n",
    "plt.title(\"Invoice Class vs. Payment Delay\")\n",
    "plt.ylabel(\"Count\")\n",
    "plt.show()\n"
   ]
  },
  {
   "cell_type": "markdown",
   "metadata": {
    "id": "Xf2s_ZYRcqBO"
   },
   "source": [
    "### Insight on Invoice Class vs. Payment Delay\n",
    "\n",
    "- The **INV** class has the highest number of invoices, with a significant portion experiencing **payment delays**.  \n",
    "- **CM** invoices also show delays but in much smaller numbers.  \n",
    "- **DM** invoices are rare, with minimal delays.  \n",
    "- Businesses should focus on reducing **delays in the INV category**, as it contributes the most to late payments.  \n"
   ]
  },
  {
   "cell_type": "code",
   "execution_count": null,
   "metadata": {
    "colab": {
     "base_uri": "https://localhost:8080/",
     "height": 503
    },
    "id": "yxpuJqgPtXIQ",
    "outputId": "3326fc1d-88b4-4d04-b1dc-1cefec548e7d"
   },
   "outputs": [
    {
     "data": {
      "image/png": "[encoded data removed]",
      "text/plain": [
       "<Figure size 1000x500 with 1 Axes>"
      ]
     },
     "metadata": {},
     "output_type": "display_data"
    }
   ],
   "source": [
    "df['RECEIPT_DATE'] = pd.to_datetime(df['RECEIPT_DATE'])\n",
    "df.groupby(df['RECEIPT_DATE'].dt.to_period('M'))['Delayed_Payment'].mean().plot(kind='line', figsize=(10, 5), marker='o', color='red')\n",
    "plt.title('Trend of Delayed Payments Over Time')\n",
    "plt.xlabel('Month-Year')\n",
    "plt.ylabel('Proportion of Delayed Payments')\n",
    "plt.show()\n"
   ]
  },
  {
   "cell_type": "markdown",
   "metadata": {
    "id": "XEUFqSs-c7n3"
   },
   "source": [
    "### Insight on Delayed Payments Trend\n",
    "\n",
    "- The proportion of delayed payments **decreased from January to March**.  \n",
    "- However, it **started rising again from April to June**.  \n",
    "- This suggests an **improvement in early 2021**, followed by a **worsening trend**.  \n",
    "- Businesses should investigate factors causing the **increase in delays from April onward**.  \n"
   ]
  },
  {
   "cell_type": "code",
   "execution_count": null,
   "metadata": {
    "colab": {
     "base_uri": "https://localhost:8080/",
     "height": 656
    },
    "id": "FvrRaKvBt1iD",
    "outputId": "07b14b52-f2fe-4025-c5cc-2314b69343b5"
   },
   "outputs": [
    {
     "data": {
      "image/png": "[encoded data removed]",
      "text/plain": [
       "<Figure size 800x600 with 2 Axes>"
      ]
     },
     "metadata": {},
     "output_type": "display_data"
    }
   ],
   "source": [
    "# Select only numerical columns\n",
    "num_cols = df.select_dtypes(include=['number']).columns.tolist()\n",
    "\n",
    "# Plot heatmap\n",
    "plt.figure(figsize=(8, 6))\n",
    "corr = df[num_cols + ['Delayed_Payment']].corr()\n",
    "sns.heatmap(corr, annot=True, cmap='coolwarm', fmt='.2f', linewidths=0.5)\n",
    "plt.title('Correlation Heatmap')\n",
    "plt.show()\n"
   ]
  },
  {
   "cell_type": "markdown",
   "metadata": {
    "id": "AKloMvrFdSQv"
   },
   "source": [
    "### Insight on Correlation Heatmap\n",
    "\n",
    "- **Local Amount and USD Amount** show a **strong positive correlation (0.83)**, which is expected due to currency conversion.\n",
    "- **Delayed Payment has a weak correlation** with both **Local Amount (0.09) and USD Amount (0.10)**, suggesting **invoice amounts do not strongly influence payment delays**.\n",
    "- The duplicated \"Delayed Payment\" column seems to be an issue in data processing but does not affect the analysis.\n",
    "\n",
    "🔍 **Key Takeaway:** Payment delays are **not significantly influenced by the invoice amount**, so other factors (e.g., customer behavior, credit terms) might be driving delays.\n"
   ]
  },
  {
   "cell_type": "markdown",
   "metadata": {
    "id": "5ts-gHiXq8HC"
   },
   "source": [
    "## 7. **Feature Engineering:**"
   ]
  },
  {
   "cell_type": "code",
   "execution_count": null,
   "metadata": {
    "colab": {
     "base_uri": "https://localhost:8080/"
    },
    "id": "0kZPk2RqvUAw",
    "outputId": "58fa2d76-2017-40e1-94a1-eda8c9dfb8cf"
   },
   "outputs": [
    {
     "name": "stdout",
     "output_type": "stream",
     "text": [
      "RECEIPT_METHOD                   object\n",
      "RECEIPT_DATE             datetime64[ns]\n",
      "CLASS                            object\n",
      "CURRENCY_CODE                    object\n",
      "Local Amount                    float64\n",
      "USD Amount                      float64\n",
      "DUE_DATE                 datetime64[ns]\n",
      "PAYMENT_TERM                     object\n",
      "INVOICE_CLASS                    object\n",
      "INVOICE_CURRENCY_CODE            object\n",
      "INVOICE_TYPE                     object\n",
      "Delayed_Payment                   int64\n",
      "dtype: object\n"
     ]
    }
   ],
   "source": [
    "# Check datatypes of all columns\n",
    "print(df.dtypes)"
   ]
  },
  {
   "cell_type": "code",
   "execution_count": null,
   "metadata": {
    "colab": {
     "base_uri": "https://localhost:8080/"
    },
    "id": "I8zCHFBwvZuZ",
    "outputId": "1915e1d6-229b-4176-a26c-b4a6e3b23f7f"
   },
   "outputs": [
    {
     "name": "stdout",
     "output_type": "stream",
     "text": [
      "<class 'pandas.core.frame.DataFrame'>\n",
      "RangeIndex: 26119 entries, 0 to 26118\n",
      "Data columns (total 76 columns):\n",
      " #   Column                                                                Non-Null Count  Dtype  \n",
      "---  ------                                                                --------------  -----  \n",
      " 0   Local Amount                                                          26119 non-null  float64\n",
      " 1   USD Amount                                                            26119 non-null  float64\n",
      " 2   Delayed_Payment                                                       26119 non-null  int64  \n",
      " 3   RECEIPT_YEAR                                                          26119 non-null  int32  \n",
      " 4   RECEIPT_MONTH                                                         26119 non-null  int32  \n",
      " 5   RECEIPT_DAY                                                           26119 non-null  int32  \n",
      " 6   DUE_YEAR                                                              26119 non-null  int32  \n",
      " 7   DUE_MONTH                                                             26119 non-null  int32  \n",
      " 8   DUE_DAY                                                               26119 non-null  int32  \n",
      " 9   RECEIPT_METHOD_CASH                                                   26119 non-null  bool   \n",
      " 10  RECEIPT_METHOD_CHEQUE                                                 26119 non-null  bool   \n",
      " 11  RECEIPT_METHOD_I/C CASH                                               26119 non-null  bool   \n",
      " 12  RECEIPT_METHOD_I/C Check                                              26119 non-null  bool   \n",
      " 13  RECEIPT_METHOD_I/C WIRE                                               26119 non-null  bool   \n",
      " 14  RECEIPT_METHOD_PDC                                                    26119 non-null  bool   \n",
      " 15  RECEIPT_METHOD_WIRE                                                   26119 non-null  bool   \n",
      " 16  CURRENCY_CODE_BHD                                                     26119 non-null  bool   \n",
      " 17  CURRENCY_CODE_EUR                                                     26119 non-null  bool   \n",
      " 18  CURRENCY_CODE_GBP                                                     26119 non-null  bool   \n",
      " 19  CURRENCY_CODE_KWD                                                     26119 non-null  bool   \n",
      " 20  CURRENCY_CODE_QAR                                                     26119 non-null  bool   \n",
      " 21  CURRENCY_CODE_SAR                                                     26119 non-null  bool   \n",
      " 22  CURRENCY_CODE_USD                                                     26119 non-null  bool   \n",
      " 23  PAYMENT_TERM_120 Days from EOM                                        26119 non-null  bool   \n",
      " 24  PAYMENT_TERM_120 Days from Inv Date                                   26119 non-null  bool   \n",
      " 25  PAYMENT_TERM_15 Days from EOM                                         26119 non-null  bool   \n",
      " 26  PAYMENT_TERM_15 Days from Inv Date                                    26119 non-null  bool   \n",
      " 27  PAYMENT_TERM_180 DAYS FROM INV DATE                                   26119 non-null  bool   \n",
      " 28  PAYMENT_TERM_195 days from Invoice Date                               26119 non-null  bool   \n",
      " 29  PAYMENT_TERM_25 DAYS FROM EOM                                         26119 non-null  bool   \n",
      " 30  PAYMENT_TERM_25% ADVANCE, 75% 30 DAYS FROM INVOICE DATE               26119 non-null  bool   \n",
      " 31  PAYMENT_TERM_30 Days from EOM                                         26119 non-null  bool   \n",
      " 32  PAYMENT_TERM_30 Days from Inv Date                                    26119 non-null  bool   \n",
      " 33  PAYMENT_TERM_30% advance 70% after 30 days from invoice date          26119 non-null  bool   \n",
      " 34  PAYMENT_TERM_30% advance 70% after 60 days from invoice date          26119 non-null  bool   \n",
      " 35  PAYMENT_TERM_365 DAYS FROM INVOICE DATE                               26119 non-null  bool   \n",
      " 36  PAYMENT_TERM_40 DAYS FROM EOM                                         26119 non-null  bool   \n",
      " 37  PAYMENT_TERM_45 DAYS + EOM                                            26119 non-null  bool   \n",
      " 38  PAYMENT_TERM_45 Days from EOM                                         26119 non-null  bool   \n",
      " 39  PAYMENT_TERM_45 Days from Inv Date                                    26119 non-null  bool   \n",
      " 40  PAYMENT_TERM_50% ADV 50% 30 Days                                      26119 non-null  bool   \n",
      " 41  PAYMENT_TERM_50% ADVANCE PAYMENT AND 50% UPON RECEIVING THE SHIPMENT  26119 non-null  bool   \n",
      " 42  PAYMENT_TERM_50% Advance 50% INVDATE+60 DAYS                          26119 non-null  bool   \n",
      " 43  PAYMENT_TERM_50% at 30 days and 50% at 60 days                        26119 non-null  bool   \n",
      " 44  PAYMENT_TERM_60 Days from EOM                                         26119 non-null  bool   \n",
      " 45  PAYMENT_TERM_60 Days from Inv Date                                    26119 non-null  bool   \n",
      " 46  PAYMENT_TERM_7 Days from EOM                                          26119 non-null  bool   \n",
      " 47  PAYMENT_TERM_7 Days from Inv Date                                     26119 non-null  bool   \n",
      " 48  PAYMENT_TERM_75 Days from EOM                                         26119 non-null  bool   \n",
      " 49  PAYMENT_TERM_75 Days from Inv Date                                    26119 non-null  bool   \n",
      " 50  PAYMENT_TERM_90 Days from EOM                                         26119 non-null  bool   \n",
      " 51  PAYMENT_TERM_90 Days from Inv Date                                    26119 non-null  bool   \n",
      " 52  PAYMENT_TERM_Advance with discount                                    26119 non-null  bool   \n",
      " 53  PAYMENT_TERM_Cash Against Document at sight                           26119 non-null  bool   \n",
      " 54  PAYMENT_TERM_Cash on Delivery                                         26119 non-null  bool   \n",
      " 55  PAYMENT_TERM_EOM                                                      26119 non-null  bool   \n",
      " 56  PAYMENT_TERM_Immediate                                                26119 non-null  bool   \n",
      " 57  PAYMENT_TERM_Immediate Payment                                        26119 non-null  bool   \n",
      " 58  PAYMENT_TERM_LC at 60 days                                            26119 non-null  bool   \n",
      " 59  PAYMENT_TERM_LC at 60 days from FCR/AWB/BL date                       26119 non-null  bool   \n",
      " 60  PAYMENT_TERM_LC at 90 days                                            26119 non-null  bool   \n",
      " 61  PAYMENT_TERM_LCSight                                                  26119 non-null  bool   \n",
      " 62  PAYMENT_TERM_On Consignment                                           26119 non-null  bool   \n",
      " 63  PAYMENT_TERM_Standby LC at 30 days                                    26119 non-null  bool   \n",
      " 64  INVOICE_CLASS_DM                                                      26119 non-null  bool   \n",
      " 65  INVOICE_CLASS_INV                                                     26119 non-null  bool   \n",
      " 66  INVOICE_CURRENCY_CODE_BHD                                             26119 non-null  bool   \n",
      " 67  INVOICE_CURRENCY_CODE_EUR                                             26119 non-null  bool   \n",
      " 68  INVOICE_CURRENCY_CODE_GBP                                             26119 non-null  bool   \n",
      " 69  INVOICE_CURRENCY_CODE_JOD                                             26119 non-null  bool   \n",
      " 70  INVOICE_CURRENCY_CODE_KWD                                             26119 non-null  bool   \n",
      " 71  INVOICE_CURRENCY_CODE_QAR                                             26119 non-null  bool   \n",
      " 72  INVOICE_CURRENCY_CODE_SAR                                             26119 non-null  bool   \n",
      " 73  INVOICE_CURRENCY_CODE_USD                                             26119 non-null  bool   \n",
      " 74  INVOICE_CURRENCY_CODE_ZAR                                             26119 non-null  bool   \n",
      " 75  INVOICE_TYPE_Non Goods                                                26119 non-null  bool   \n",
      "dtypes: bool(67), float64(2), int32(6), int64(1)\n",
      "memory usage: 2.9 MB\n"
     ]
    }
   ],
   "source": [
    "# Convert datetime columns to useful features\n",
    "df['RECEIPT_YEAR'] = df['RECEIPT_DATE'].dt.year\n",
    "df['RECEIPT_MONTH'] = df['RECEIPT_DATE'].dt.month\n",
    "df['RECEIPT_DAY'] = df['RECEIPT_DATE'].dt.day\n",
    "df['DUE_YEAR'] = df['DUE_DATE'].dt.year\n",
    "df['DUE_MONTH'] = df['DUE_DATE'].dt.month\n",
    "df['DUE_DAY'] = df['DUE_DATE'].dt.day\n",
    "\n",
    "# Drop original datetime columns\n",
    "df.drop(columns=['RECEIPT_DATE', 'DUE_DATE'], inplace=True)\n",
    "\n",
    "# Encode categorical variables using one-hot encoding\n",
    "df = pd.get_dummies(df, drop_first=True)\n",
    "\n",
    "# Display updated dataframe\n",
    "df.info()\n"
   ]
  },
  {
   "cell_type": "markdown",
   "metadata": {
    "id": "eAvBNh9ElHIw"
   },
   "source": [
    "## 8. **Feature Selection:**"
   ]
  },
  {
   "cell_type": "code",
   "execution_count": null,
   "metadata": {
    "id": "bhO6M2ktw6Y8"
   },
   "outputs": [],
   "source": [
    "from sklearn.ensemble import RandomForestClassifier\n",
    "from sklearn.feature_selection import RFE\n",
    "\n",
    "model = RandomForestClassifier()\n",
    "rfe = RFE(model, n_features_to_select=20)  # Adjust as needed\n",
    "\n",
    "# Apply RFE\n",
    "X_selected = rfe.fit_transform(df.drop(columns=['Delayed_Payment']), df['Delayed_Payment'])\n",
    "\n",
    "# Create a DataFrame with selected features\n",
    "df_selected = pd.DataFrame(X_selected, columns=df.drop(columns=['Delayed_Payment']).columns[rfe.support_])\n",
    "\n",
    "# Reattach the target variable\n",
    "df_selected['Delayed_Payment'] = df['Delayed_Payment'].values\n"
   ]
  },
  {
   "cell_type": "markdown",
   "metadata": {
    "id": "vef9VRNfrWKx"
   },
   "source": [
    "## 9. **Split Data into Training and Testing Sets:**"
   ]
  },
  {
   "cell_type": "code",
   "execution_count": null,
   "metadata": {
    "id": "8iRCIOXXyjSQ"
   },
   "outputs": [],
   "source": [
    "X = df_selected.drop(columns=['Delayed_Payment'])  # Exclude target variable\n",
    "y = df_selected['Delayed_Payment']  # Target variable"
   ]
  },
  {
   "cell_type": "code",
   "execution_count": null,
   "metadata": {
    "colab": {
     "base_uri": "https://localhost:8080/"
    },
    "id": "fHKVnZ0i0ikV",
    "outputId": "ddd11fdc-6a5e-4574-828a-dc0969b1dad0"
   },
   "outputs": [
    {
     "data": {
      "text/plain": [
       "((20895, 20), (5224, 20), (20895,), (5224,))"
      ]
     },
     "execution_count": 26,
     "metadata": {},
     "output_type": "execute_result"
    }
   ],
   "source": [
    "# Split data into 80% training and 20% testing\n",
    "X_train, X_test, y_train, y_test = train_test_split(X, y, test_size=0.2, random_state=42, stratify=y)\n",
    "\n",
    "# Display shapes\n",
    "X_train.shape, X_test.shape, y_train.shape, y_test.shape"
   ]
  },
  {
   "cell_type": "code",
   "execution_count": null,
   "metadata": {
    "colab": {
     "base_uri": "https://localhost:8080/",
     "height": 178
    },
    "id": "nM9z1hMt0jsV",
    "outputId": "d53cef7d-575f-49d4-c3af-b6d4eb1fe477"
   },
   "outputs": [
    {
     "data": {
      "text/html": [
       "<div>\n",
       "<style scoped>\n",
       "    .dataframe tbody tr th:only-of-type {\n",
       "        vertical-align: middle;\n",
       "    }\n",
       "\n",
       "    .dataframe tbody tr th {\n",
       "        vertical-align: top;\n",
       "    }\n",
       "\n",
       "    .dataframe thead th {\n",
       "        text-align: right;\n",
       "    }\n",
       "</style>\n",
       "<table border=\"1\" class=\"dataframe\">\n",
       "  <thead>\n",
       "    <tr style=\"text-align: right;\">\n",
       "      <th></th>\n",
       "      <th>count</th>\n",
       "    </tr>\n",
       "    <tr>\n",
       "      <th>Delayed_Payment</th>\n",
       "      <th></th>\n",
       "    </tr>\n",
       "  </thead>\n",
       "  <tbody>\n",
       "    <tr>\n",
       "      <th>1</th>\n",
       "      <td>19305</td>\n",
       "    </tr>\n",
       "    <tr>\n",
       "      <th>0</th>\n",
       "      <td>6814</td>\n",
       "    </tr>\n",
       "  </tbody>\n",
       "</table>\n",
       "</div><br><label><b>dtype:</b> int64</label>"
      ],
      "text/plain": [
       "Delayed_Payment\n",
       "1    19305\n",
       "0     6814\n",
       "Name: count, dtype: int64"
      ]
     },
     "execution_count": 27,
     "metadata": {},
     "output_type": "execute_result"
    }
   ],
   "source": [
    "y.value_counts()"
   ]
  },
  {
   "cell_type": "markdown",
   "metadata": {
    "id": "e3MwbSKftADe"
   },
   "source": [
    "# 10. **Feature Scaling & SMOTE**"
   ]
  },
  {
   "cell_type": "code",
   "execution_count": null,
   "metadata": {
    "colab": {
     "base_uri": "https://localhost:8080/"
    },
    "id": "7kYYAZOQ14M6",
    "outputId": "66bc35f7-c1d0-409d-ded9-ff1f3c75dd44"
   },
   "outputs": [
    {
     "name": "stdout",
     "output_type": "stream",
     "text": [
      "Delayed_Payment\n",
      "0    15444\n",
      "1    15444\n",
      "Name: count, dtype: int64\n"
     ]
    }
   ],
   "source": [
    "from imblearn.over_sampling import SMOTE\n",
    "from sklearn.preprocessing import StandardScaler\n",
    "\n",
    "# Step 1: Apply SMOTE on training data\n",
    "smote = SMOTE(random_state=42)\n",
    "X_train_bal, y_train_bal = smote.fit_resample(X_train, y_train)\n",
    "\n",
    "# Step 2: Scale features using StandardScaler\n",
    "scaler = StandardScaler()\n",
    "X_train_scaled = scaler.fit_transform(X_train_bal)\n",
    "X_test_scaled = scaler.transform(X_test)\n",
    "\n",
    "# Display new class distribution\n",
    "import pandas as pd\n",
    "print(pd.Series(y_train_bal).value_counts())\n"
   ]
  },
  {
   "cell_type": "markdown",
   "metadata": {
    "id": "XsGTZhUEriHB"
   },
   "source": [
    "## 11.**Build the ML Model:**"
   ]
  },
  {
   "cell_type": "code",
   "execution_count": null,
   "metadata": {
    "id": "1QWkJDWw2ZON"
   },
   "outputs": [],
   "source": [
    "models = {\n",
    "    \"Logistic Regression\": LogisticRegression(max_iter=5000),\n",
    "    \"Random Forest\": RandomForestClassifier(),\n",
    "    \"SVM\": SVC(probability=True),  # Enable probability estimates\n",
    "    \"Gradient Boosting\": GradientBoostingClassifier(),\n",
    "    \"KNN\": KNeighborsClassifier()\n",
    "}\n"
   ]
  },
  {
   "cell_type": "markdown",
   "metadata": {
    "id": "dWjhidC_lV25"
   },
   "source": [
    "##12.**Model evalvation**"
   ]
  },
  {
   "cell_type": "code",
   "execution_count": null,
   "metadata": {
    "colab": {
     "base_uri": "https://localhost:8080/",
     "height": 1000
    },
    "id": "vI70LizH2n38",
    "outputId": "ba55764a-6058-4eab-b755-fe8f99d4fa90"
   },
   "outputs": [
    {
     "name": "stdout",
     "output_type": "stream",
     "text": [
      "Model: Logistic Regression\n",
      "              precision    recall  f1-score   support\n",
      "\n",
      "           0       0.53      0.18      0.27      1363\n",
      "           1       0.77      0.94      0.85      3861\n",
      "\n",
      "    accuracy                           0.74      5224\n",
      "   macro avg       0.65      0.56      0.56      5224\n",
      "weighted avg       0.70      0.74      0.70      5224\n",
      "\n",
      "--------------------------------------------------\n",
      "Model: Random Forest\n",
      "              precision    recall  f1-score   support\n",
      "\n",
      "           0       0.98      0.94      0.96      1363\n",
      "           1       0.98      0.99      0.99      3861\n",
      "\n",
      "    accuracy                           0.98      5224\n",
      "   macro avg       0.98      0.97      0.97      5224\n",
      "weighted avg       0.98      0.98      0.98      5224\n",
      "\n",
      "--------------------------------------------------\n"
     ]
    },
    {
     "name": "stderr",
     "output_type": "stream",
     "text": [
      "/usr/local/lib/python3.11/dist-packages/sklearn/metrics/_classification.py:1565: UndefinedMetricWarning: Precision is ill-defined and being set to 0.0 in labels with no predicted samples. Use `zero_division` parameter to control this behavior.\n",
      "  _warn_prf(average, modifier, f\"{metric.capitalize()} is\", len(result))\n",
      "/usr/local/lib/python3.11/dist-packages/sklearn/metrics/_classification.py:1565: UndefinedMetricWarning: Precision is ill-defined and being set to 0.0 in labels with no predicted samples. Use `zero_division` parameter to control this behavior.\n",
      "  _warn_prf(average, modifier, f\"{metric.capitalize()} is\", len(result))\n",
      "/usr/local/lib/python3.11/dist-packages/sklearn/metrics/_classification.py:1565: UndefinedMetricWarning: Precision is ill-defined and being set to 0.0 in labels with no predicted samples. Use `zero_division` parameter to control this behavior.\n",
      "  _warn_prf(average, modifier, f\"{metric.capitalize()} is\", len(result))\n"
     ]
    },
    {
     "name": "stdout",
     "output_type": "stream",
     "text": [
      "Model: SVM\n",
      "              precision    recall  f1-score   support\n",
      "\n",
      "           0       0.00      0.00      0.00      1363\n",
      "           1       0.74      1.00      0.85      3861\n",
      "\n",
      "    accuracy                           0.74      5224\n",
      "   macro avg       0.37      0.50      0.42      5224\n",
      "weighted avg       0.55      0.74      0.63      5224\n",
      "\n",
      "--------------------------------------------------\n",
      "Model: Gradient Boosting\n",
      "              precision    recall  f1-score   support\n",
      "\n",
      "           0       0.99      0.96      0.98      1363\n",
      "           1       0.99      1.00      0.99      3861\n",
      "\n",
      "    accuracy                           0.99      5224\n",
      "   macro avg       0.99      0.98      0.98      5224\n",
      "weighted avg       0.99      0.99      0.99      5224\n",
      "\n",
      "--------------------------------------------------\n",
      "Model: KNN\n",
      "              precision    recall  f1-score   support\n",
      "\n",
      "           0       0.49      0.35      0.41      1363\n",
      "           1       0.79      0.87      0.83      3861\n",
      "\n",
      "    accuracy                           0.73      5224\n",
      "   macro avg       0.64      0.61      0.62      5224\n",
      "weighted avg       0.71      0.73      0.72      5224\n",
      "\n",
      "--------------------------------------------------\n"
     ]
    },
    {
     "data": {
      "image/png": "[encoded data removed]",
      "text/plain": [
       "<Figure size 1000x600 with 1 Axes>"
      ]
     },
     "metadata": {},
     "output_type": "display_data"
    }
   ],
   "source": [
    "# Plot ROC curve\n",
    "from sklearn.metrics import roc_curve, auc, classification_report\n",
    "plt.figure(figsize=(10, 6))\n",
    "\n",
    "for name, model in models.items():\n",
    "    model.fit(X_train, y_train)  # Train model\n",
    "    y_probs = model.predict_proba(X_test)[:, 1]  # Get probability scores\n",
    "    fpr, tpr, _ = roc_curve(y_test, y_probs)  # Compute ROC\n",
    "    roc_auc = auc(fpr, tpr)  # Compute AUC\n",
    "\n",
    "    # Plot ROC Curve\n",
    "    plt.plot(fpr, tpr, label=f\"{name} (AUC = {roc_auc:.2f})\")\n",
    "\n",
    "    # Print Classification Report\n",
    "    y_pred = model.predict(X_test)\n",
    "    print(f\"Model: {name}\\n{classification_report(y_test, y_pred)}\\n\" + \"-\"*50)\n",
    "\n",
    "# Plot settings\n",
    "plt.plot([0, 1], [0, 1], 'k--', label=\"Random Guess\")  # Random baseline\n",
    "plt.xlabel(\"False Positive Rate\")\n",
    "plt.ylabel(\"True Positive Rate\")\n",
    "plt.title(\"ROC Curve for All Models\")\n",
    "plt.legend()\n",
    "plt.grid()\n",
    "plt.show()"
   ]
  },
  {
   "cell_type": "markdown",
   "metadata": {
    "id": "d5rcT4jfdunX"
   },
   "source": [
    "\n",
    "*ROC Curve Insights*\n",
    "- **Best Models:** Random Forest & Gradient Boosting (AUC = 1.00) → Possible overfitting.  \n",
    "- *Moderate Models:** Logistic Regression (0.73) & KNN (0.72) → Decent predictive power.  \n",
    "- **Worst Model:** SVM (0.45) → Performs worse than random guessing.  \n",
    "- **Takeaway:** RF & GB may overfit; LR & KNN are balanced; SVM needs tuning.  \n"
   ]
  },
  {
   "cell_type": "markdown",
   "metadata": {
    "id": "0J84A_MoeyAn"
   },
   "source": [
    "### Overall Conclusion:\n",
    "- **Best Model:** **Gradient Boosting (99%)** → Highest accuracy, best overall performance.\n",
    "- **Strong Performer:** **Random Forest (98%)** → Excellent accuracy, slightly lower than Gradient Boosting.\n",
    "- **Moderate Models:** **Logistic Regression (75%) & KNN (74%)** → Decent accuracy but weaker than tree-based models.\n",
    "- **Worst Model:** **SVM (74%) but with 0% precision for class 0** → Poor balance, ineffective for minority class.\n",
    "- **Key Takeaway:** Tree-based models (GB & RF) perform best, while SVM struggles. Consider tuning or feature selection. 🚀\n"
   ]
  },
  {
   "cell_type": "markdown",
   "metadata": {
    "id": "rkF1xfO1sUjy"
   },
   "source": [
    "# **13.Hyperparameter Tuning**"
   ]
  },
  {
   "cell_type": "code",
   "execution_count": null,
   "metadata": {
    "colab": {
     "base_uri": "https://localhost:8080/"
    },
    "id": "vwB4hMFsNz14",
    "outputId": "5644640a-fa91-4b7c-a80f-16754d3201d8"
   },
   "outputs": [
    {
     "name": "stdout",
     "output_type": "stream",
     "text": [
      "Fitting 5 folds for each of 16 candidates, totalling 80 fits\n",
      "Best Parameters: {'learning_rate': 0.1, 'max_depth': 5, 'min_samples_split': 2, 'n_estimators': 200}\n",
      "Best Accuracy: 0.9977985163914813\n"
     ]
    }
   ],
   "source": [
    "from sklearn.ensemble import GradientBoostingClassifier\n",
    "from sklearn.model_selection import GridSearchCV\n",
    "\n",
    "# Define parameter grid\n",
    "param_grid = {\n",
    "    'n_estimators': [100, 200],\n",
    "    'learning_rate': [0.01, 0.1],\n",
    "    'max_depth': [3, 5],\n",
    "    'min_samples_split': [2, 5]\n",
    "}\n",
    "\n",
    "# Initialize model\n",
    "gb = GradientBoostingClassifier()\n",
    "\n",
    "# Apply GridSearchCV\n",
    "grid_search = GridSearchCV(gb, param_grid, cv=5, scoring='accuracy', n_jobs=-1, verbose=1)\n",
    "grid_search.fit(X_train, y_train)\n",
    "\n",
    "# Best parameters and accuracy\n",
    "print(\"Best Parameters:\", grid_search.best_params_)\n",
    "print(\"Best Accuracy:\", grid_search.best_score_)\n"
   ]
  },
  {
   "cell_type": "markdown",
   "metadata": {
    "id": "wx6Ras71suG_"
   },
   "source": [
    "# 14. **Save the Model:**"
   ]
  },
  {
   "cell_type": "code",
   "execution_count": null,
   "metadata": {
    "colab": {
     "base_uri": "https://localhost:8080/"
    },
    "id": "Zw2sJZkgAOwU",
    "outputId": "e9301237-d5de-4fc1-b53c-4075cd4fef5d"
   },
   "outputs": [
    {
     "name": "stdout",
     "output_type": "stream",
     "text": [
      "Best model saved successfully!\n"
     ]
    }
   ],
   "source": [
    "import joblib\n",
    "\n",
    "# Save the best model\n",
    "best_model = grid_search.best_estimator_\n",
    "joblib.dump(best_model, 'best_gradient_boosting.pkl')\n",
    "\n",
    "print(\"Best model saved successfully!\")\n"
   ]
  },
  {
   "cell_type": "code",
   "execution_count": null,
   "metadata": {
    "id": "i42b2kZT9C0Y"
   },
   "outputs": [],
   "source": [
    "import pandas as pd\n",
    "from sklearn.model_selection import train_test_split\n",
    "from sklearn.preprocessing import StandardScaler\n",
    "from sklearn.ensemble import RandomForestClassifier, GradientBoostingClassifier\n",
    "from sklearn.svm import SVC\n",
    "from sklearn.linear_model import LogisticRegression\n",
    "from sklearn.neighbors import KNeighborsClassifier\n",
    "from imblearn.over_sampling import SMOTE\n",
    "from imblearn.pipeline import Pipeline as ImbPipeline\n",
    "from sklearn.metrics import classification_report\n",
    "import joblib\n",
    "from sklearn.model_selection import GridSearchCV\n",
    "\n",
    "class PaymentPredictionPipeline:\n",
    "    def __init__(self, dataset_path):\n",
    "        self.dataset_path = dataset_path\n",
    "        self.df = None\n",
    "        self.X_train = None\n",
    "        self.X_test = None\n",
    "        self.y_train = None\n",
    "        self.y_test = None\n",
    "        self.model_dict = {\n",
    "            \"Logistic Regression\": LogisticRegression(max_iter=5000),\n",
    "            \"Random Forest\": RandomForestClassifier(),\n",
    "            \"SVM\": SVC(probability=True),\n",
    "            \"Gradient Boosting\": GradientBoostingClassifier(),\n",
    "            \"KNN\": KNeighborsClassifier()\n",
    "        }\n",
    "\n",
    "    def load_data(self):\n",
    "        # Load the dataset and preprocess\n",
    "        self.df = pd.read_csv(self.dataset_path)\n",
    "\n",
    "        # Attempt to parse the dates in the correct format (assuming ISO format)\n",
    "        self.df['RECEIPT_DATE'] = pd.to_datetime(self.df['RECEIPT_DATE'], errors='coerce')  # Allow errors to be coerced\n",
    "        self.df['DUE_DATE'] = pd.to_datetime(self.df['DUE_DATE'], errors='coerce')  # Allow errors to be coerced\n",
    "\n",
    "        # Check if any invalid date conversion occurred\n",
    "        if self.df['RECEIPT_DATE'].isnull().any() or self.df['DUE_DATE'].isnull().any():\n",
    "            print(\"Warning: Some date values could not be parsed.\")\n",
    "\n",
    "        # Create the target variable\n",
    "        self.df['Delayed_Payment'] = (self.df['RECEIPT_DATE'] > self.df['DUE_DATE']).astype(int)\n",
    "\n",
    "        # Drop unnecessary columns\n",
    "        drop_cols = ['CUSTOMER_NAME', 'CUSTOMER_NUMBER', 'RECEIPT_DOC_NO', 'INVOICE_ALLOCATED', 'INVOICE_CREATION_DATE']\n",
    "        self.df.drop(columns=drop_cols, inplace=True)\n",
    "\n",
    "        # Drop duplicates and reset index\n",
    "        self.df = self.df.drop_duplicates().reset_index(drop=True)\n",
    "\n",
    "        # Convert datetime columns to features\n",
    "        self.df['RECEIPT_YEAR'] = self.df['RECEIPT_DATE'].dt.year\n",
    "        self.df['RECEIPT_MONTH'] = self.df['RECEIPT_DATE'].dt.month\n",
    "        self.df['RECEIPT_DAY'] = self.df['RECEIPT_DATE'].dt.day\n",
    "        self.df['DUE_YEAR'] = self.df['DUE_DATE'].dt.year\n",
    "        self.df['DUE_MONTH'] = self.df['DUE_DATE'].dt.month\n",
    "        self.df['DUE_DAY'] = self.df['DUE_DATE'].dt.day\n",
    "\n",
    "        # Drop original datetime columns\n",
    "        self.df.drop(columns=['RECEIPT_DATE', 'DUE_DATE'], inplace=True)\n",
    "\n",
    "        # One-hot encode categorical columns\n",
    "        self.df = pd.get_dummies(self.df, drop_first=True)\n",
    "\n",
    "        # Define X and y\n",
    "        self.X = self.df.drop(columns=['Delayed_Payment'])\n",
    "        self.y = self.df['Delayed_Payment']\n",
    "\n",
    "    def split_data(self):\n",
    "        # Split data into train and test sets\n",
    "        self.X_train, self.X_test, self.y_train, self.y_test = train_test_split(self.X, self.y, test_size=0.2, random_state=42, stratify=self.y)\n",
    "\n",
    "    def build_pipeline(self, model_name=\"Random Forest\"):\n",
    "        # Define pipeline with preprocessing and model\n",
    "        model = self.model_dict.get(model_name, RandomForestClassifier())  # Default to Random Forest\n",
    "\n",
    "        pipeline_steps = [\n",
    "            ('scaler', StandardScaler()),  # Scaling the data\n",
    "            ('smote', SMOTE(random_state=42)),  # Handle class imbalance\n",
    "            ('model', model)  # Selected Model\n",
    "        ]\n",
    "\n",
    "        # Create pipeline\n",
    "        self.pipeline = ImbPipeline(pipeline_steps)\n",
    "\n",
    "    def train_and_evaluate(self):\n",
    "        # Fit the model\n",
    "        self.pipeline.fit(self.X_train, self.y_train)\n",
    "\n",
    "        # Predict on the test set\n",
    "        y_pred = self.pipeline.predict(self.X_test)\n",
    "\n",
    "        # Print classification report\n",
    "        print(\"Classification Report:\\n\", classification_report(self.y_test, y_pred))\n",
    "\n",
    "        # Save the model\n",
    "        joblib.dump(self.pipeline, 'payment_prediction_pipeline.pkl')\n",
    "        print(\"Model saved successfully!\")\n",
    "\n",
    "    def grid_search(self):\n",
    "        # Apply GridSearchCV for hyperparameter tuning (example for Random Forest)\n",
    "        param_grid = {'model__n_estimators': [100, 200], 'model__max_depth': [5, 10]}\n",
    "        grid_search = GridSearchCV(self.pipeline, param_grid, cv=5, n_jobs=-1, verbose=1)\n",
    "        grid_search.fit(self.X_train, self.y_train)\n",
    "\n",
    "        # Best parameters and accuracy\n",
    "        print(\"Best Parameters:\", grid_search.best_params_)\n",
    "        print(\"Best Accuracy:\", grid_search.best_score_)\n",
    "\n",
    "        # Save the best model\n",
    "        best_model = grid_search.best_estimator_\n",
    "        joblib.dump(best_model, 'best_payment_prediction_model.pkl')\n",
    "        print(\"Best model saved successfully!\")\n",
    "\n",
    "    def predict_unseen_data(self, unseen_data_path):\n",
    "        # Load the unseen dataset\n",
    "        unseen_df = pd.read_csv(unseen_data_path)\n",
    "        unseen_df['RECEIPT_DATE'] = pd.to_datetime(unseen_df['RECEIPT_DATE'], errors='coerce')\n",
    "        unseen_df['DUE_DATE'] = pd.to_datetime(unseen_df['DUE_DATE'], errors='coerce')\n",
    "\n",
    "        # Apply preprocessing steps (same as the training data)\n",
    "        unseen_df['RECEIPT_YEAR'] = unseen_df['RECEIPT_DATE'].dt.year\n",
    "        unseen_df['RECEIPT_MONTH'] = unseen_df['RECEIPT_DATE'].dt.month\n",
    "        unseen_df['RECEIPT_DAY'] = unseen_df['RECEIPT_DATE'].dt.day\n",
    "        unseen_df['DUE_YEAR'] = unseen_df['DUE_DATE'].dt.year\n",
    "        unseen_df['DUE_MONTH'] = unseen_df['DUE_DATE'].dt.month\n",
    "        unseen_df['DUE_DAY'] = unseen_df['DUE_DATE'].dt.day\n",
    "        unseen_df.drop(columns=['RECEIPT_DATE', 'DUE_DATE'], inplace=True)\n",
    "        unseen_df = pd.get_dummies(unseen_df, drop_first=True)\n",
    "\n",
    "        # Align unseen data columns with training data\n",
    "        unseen_X = unseen_df[self.X.columns]\n",
    "\n",
    "        # Predict using the trained pipeline\n",
    "        predictions = self.pipeline.predict(unseen_X)\n",
    "\n",
    "        return predictions\n"
   ]
  },
  {
   "cell_type": "code",
   "execution_count": null,
   "metadata": {
    "colab": {
     "base_uri": "https://localhost:8080/"
    },
    "id": "en6GZeop9Crw",
    "outputId": "5e910ccc-8337-4a73-8aad-3c12fbcf7368"
   },
   "outputs": [
    {
     "name": "stderr",
     "output_type": "stream",
     "text": [
      "<ipython-input-33-d89f5b5f2ea0>:35: UserWarning: Could not infer format, so each element will be parsed individually, falling back to `dateutil`. To ensure parsing is consistent and as-expected, please specify a format.\n",
      "  self.df['RECEIPT_DATE'] = pd.to_datetime(self.df['RECEIPT_DATE'], errors='coerce')  # Allow errors to be coerced\n",
      "<ipython-input-33-d89f5b5f2ea0>:36: UserWarning: Could not infer format, so each element will be parsed individually, falling back to `dateutil`. To ensure parsing is consistent and as-expected, please specify a format.\n",
      "  self.df['DUE_DATE'] = pd.to_datetime(self.df['DUE_DATE'], errors='coerce')  # Allow errors to be coerced\n"
     ]
    },
    {
     "name": "stdout",
     "output_type": "stream",
     "text": [
      "Classification Report:\n",
      "               precision    recall  f1-score   support\n",
      "\n",
      "           0       0.91      0.93      0.92      1363\n",
      "           1       0.97      0.97      0.97      3861\n",
      "\n",
      "    accuracy                           0.96      5224\n",
      "   macro avg       0.94      0.95      0.95      5224\n",
      "weighted avg       0.96      0.96      0.96      5224\n",
      "\n",
      "Model saved successfully!\n"
     ]
    }
   ],
   "source": [
    "pipeline = PaymentPredictionPipeline('Received_Payments_Data.csv')\n",
    "pipeline.load_data()\n",
    "pipeline.split_data()\n",
    "pipeline.build_pipeline(model_name=\"Random Forest\")  # You can change to other models\n",
    "pipeline.train_and_evaluate()\n"
   ]
  },
  {
   "cell_type": "code",
   "execution_count": null,
   "metadata": {
    "colab": {
     "base_uri": "https://localhost:8080/",
     "height": 156
    },
    "id": "upJBxgyYuxXk",
    "outputId": "c9a8f7ee-9a44-4233-ee6f-73151ee30a8b"
   },
   "outputs": [
    {
     "data": {
      "text/html": [
       "<style>#sk-container-id-1 {\n",
       "  /* Definition of color scheme common for light and dark mode */\n",
       "  --sklearn-color-text: #000;\n",
       "  --sklearn-color-text-muted: #666;\n",
       "  --sklearn-color-line: gray;\n",
       "  /* Definition of color scheme for unfitted estimators */\n",
       "  --sklearn-color-unfitted-level-0: #fff5e6;\n",
       "  --sklearn-color-unfitted-level-1: #f6e4d2;\n",
       "  --sklearn-color-unfitted-level-2: #ffe0b3;\n",
       "  --sklearn-color-unfitted-level-3: chocolate;\n",
       "  /* Definition of color scheme for fitted estimators */\n",
       "  --sklearn-color-fitted-level-0: #f0f8ff;\n",
       "  --sklearn-color-fitted-level-1: #d4ebff;\n",
       "  --sklearn-color-fitted-level-2: #b3dbfd;\n",
       "  --sklearn-color-fitted-level-3: cornflowerblue;\n",
       "\n",
       "  /* Specific color for light theme */\n",
       "  --sklearn-color-text-on-default-background: var(--sg-text-color, var(--theme-code-foreground, var(--jp-content-font-color1, black)));\n",
       "  --sklearn-color-background: var(--sg-background-color, var(--theme-background, var(--jp-layout-color0, white)));\n",
       "  --sklearn-color-border-box: var(--sg-text-color, var(--theme-code-foreground, var(--jp-content-font-color1, black)));\n",
       "  --sklearn-color-icon: #696969;\n",
       "\n",
       "  @media (prefers-color-scheme: dark) {\n",
       "    /* Redefinition of color scheme for dark theme */\n",
       "    --sklearn-color-text-on-default-background: var(--sg-text-color, var(--theme-code-foreground, var(--jp-content-font-color1, white)));\n",
       "    --sklearn-color-background: var(--sg-background-color, var(--theme-background, var(--jp-layout-color0, #111)));\n",
       "    --sklearn-color-border-box: var(--sg-text-color, var(--theme-code-foreground, var(--jp-content-font-color1, white)));\n",
       "    --sklearn-color-icon: #878787;\n",
       "  }\n",
       "}\n",
       "\n",
       "#sk-container-id-1 {\n",
       "  color: var(--sklearn-color-text);\n",
       "}\n",
       "\n",
       "#sk-container-id-1 pre {\n",
       "  padding: 0;\n",
       "}\n",
       "\n",
       "#sk-container-id-1 input.sk-hidden--visually {\n",
       "  border: 0;\n",
       "  clip: rect(1px 1px 1px 1px);\n",
       "  clip: rect(1px, 1px, 1px, 1px);\n",
       "  height: 1px;\n",
       "  margin: -1px;\n",
       "  overflow: hidden;\n",
       "  padding: 0;\n",
       "  position: absolute;\n",
       "  width: 1px;\n",
       "}\n",
       "\n",
       "#sk-container-id-1 div.sk-dashed-wrapped {\n",
       "  border: 1px dashed var(--sklearn-color-line);\n",
       "  margin: 0 0.4em 0.5em 0.4em;\n",
       "  box-sizing: border-box;\n",
       "  padding-bottom: 0.4em;\n",
       "  background-color: var(--sklearn-color-background);\n",
       "}\n",
       "\n",
       "#sk-container-id-1 div.sk-container {\n",
       "  /* jupyter's `normalize.less` sets `[hidden] { display: none; }`\n",
       "     but bootstrap.min.css set `[hidden] { display: none !important; }`\n",
       "     so we also need the `!important` here to be able to override the\n",
       "     default hidden behavior on the sphinx rendered scikit-learn.org.\n",
       "     See: https://github.com/scikit-learn/scikit-learn/issues/21755 */\n",
       "  display: inline-block !important;\n",
       "  position: relative;\n",
       "}\n",
       "\n",
       "#sk-container-id-1 div.sk-text-repr-fallback {\n",
       "  display: none;\n",
       "}\n",
       "\n",
       "div.sk-parallel-item,\n",
       "div.sk-serial,\n",
       "div.sk-item {\n",
       "  /* draw centered vertical line to link estimators */\n",
       "  background-image: linear-gradient(var(--sklearn-color-text-on-default-background), var(--sklearn-color-text-on-default-background));\n",
       "  background-size: 2px 100%;\n",
       "  background-repeat: no-repeat;\n",
       "  background-position: center center;\n",
       "}\n",
       "\n",
       "/* Parallel-specific style estimator block */\n",
       "\n",
       "#sk-container-id-1 div.sk-parallel-item::after {\n",
       "  content: \"\";\n",
       "  width: 100%;\n",
       "  border-bottom: 2px solid var(--sklearn-color-text-on-default-background);\n",
       "  flex-grow: 1;\n",
       "}\n",
       "\n",
       "#sk-container-id-1 div.sk-parallel {\n",
       "  display: flex;\n",
       "  align-items: stretch;\n",
       "  justify-content: center;\n",
       "  background-color: var(--sklearn-color-background);\n",
       "  position: relative;\n",
       "}\n",
       "\n",
       "#sk-container-id-1 div.sk-parallel-item {\n",
       "  display: flex;\n",
       "  flex-direction: column;\n",
       "}\n",
       "\n",
       "#sk-container-id-1 div.sk-parallel-item:first-child::after {\n",
       "  align-self: flex-end;\n",
       "  width: 50%;\n",
       "}\n",
       "\n",
       "#sk-container-id-1 div.sk-parallel-item:last-child::after {\n",
       "  align-self: flex-start;\n",
       "  width: 50%;\n",
       "}\n",
       "\n",
       "#sk-container-id-1 div.sk-parallel-item:only-child::after {\n",
       "  width: 0;\n",
       "}\n",
       "\n",
       "/* Serial-specific style estimator block */\n",
       "\n",
       "#sk-container-id-1 div.sk-serial {\n",
       "  display: flex;\n",
       "  flex-direction: column;\n",
       "  align-items: center;\n",
       "  background-color: var(--sklearn-color-background);\n",
       "  padding-right: 1em;\n",
       "  padding-left: 1em;\n",
       "}\n",
       "\n",
       "\n",
       "/* Toggleable style: style used for estimator/Pipeline/ColumnTransformer box that is\n",
       "clickable and can be expanded/collapsed.\n",
       "- Pipeline and ColumnTransformer use this feature and define the default style\n",
       "- Estimators will overwrite some part of the style using the `sk-estimator` class\n",
       "*/\n",
       "\n",
       "/* Pipeline and ColumnTransformer style (default) */\n",
       "\n",
       "#sk-container-id-1 div.sk-toggleable {\n",
       "  /* Default theme specific background. It is overwritten whether we have a\n",
       "  specific estimator or a Pipeline/ColumnTransformer */\n",
       "  background-color: var(--sklearn-color-background);\n",
       "}\n",
       "\n",
       "/* Toggleable label */\n",
       "#sk-container-id-1 label.sk-toggleable__label {\n",
       "  cursor: pointer;\n",
       "  display: flex;\n",
       "  width: 100%;\n",
       "  margin-bottom: 0;\n",
       "  padding: 0.5em;\n",
       "  box-sizing: border-box;\n",
       "  text-align: center;\n",
       "  align-items: start;\n",
       "  justify-content: space-between;\n",
       "  gap: 0.5em;\n",
       "}\n",
       "\n",
       "#sk-container-id-1 label.sk-toggleable__label .caption {\n",
       "  font-size: 0.6rem;\n",
       "  font-weight: lighter;\n",
       "  color: var(--sklearn-color-text-muted);\n",
       "}\n",
       "\n",
       "#sk-container-id-1 label.sk-toggleable__label-arrow:before {\n",
       "  /* Arrow on the left of the label */\n",
       "  content: \"▸\";\n",
       "  float: left;\n",
       "  margin-right: 0.25em;\n",
       "  color: var(--sklearn-color-icon);\n",
       "}\n",
       "\n",
       "#sk-container-id-1 label.sk-toggleable__label-arrow:hover:before {\n",
       "  color: var(--sklearn-color-text);\n",
       "}\n",
       "\n",
       "/* Toggleable content - dropdown */\n",
       "\n",
       "#sk-container-id-1 div.sk-toggleable__content {\n",
       "  max-height: 0;\n",
       "  max-width: 0;\n",
       "  overflow: hidden;\n",
       "  text-align: left;\n",
       "  /* unfitted */\n",
       "  background-color: var(--sklearn-color-unfitted-level-0);\n",
       "}\n",
       "\n",
       "#sk-container-id-1 div.sk-toggleable__content.fitted {\n",
       "  /* fitted */\n",
       "  background-color: var(--sklearn-color-fitted-level-0);\n",
       "}\n",
       "\n",
       "#sk-container-id-1 div.sk-toggleable__content pre {\n",
       "  margin: 0.2em;\n",
       "  border-radius: 0.25em;\n",
       "  color: var(--sklearn-color-text);\n",
       "  /* unfitted */\n",
       "  background-color: var(--sklearn-color-unfitted-level-0);\n",
       "}\n",
       "\n",
       "#sk-container-id-1 div.sk-toggleable__content.fitted pre {\n",
       "  /* unfitted */\n",
       "  background-color: var(--sklearn-color-fitted-level-0);\n",
       "}\n",
       "\n",
       "#sk-container-id-1 input.sk-toggleable__control:checked~div.sk-toggleable__content {\n",
       "  /* Expand drop-down */\n",
       "  max-height: 200px;\n",
       "  max-width: 100%;\n",
       "  overflow: auto;\n",
       "}\n",
       "\n",
       "#sk-container-id-1 input.sk-toggleable__control:checked~label.sk-toggleable__label-arrow:before {\n",
       "  content: \"▾\";\n",
       "}\n",
       "\n",
       "/* Pipeline/ColumnTransformer-specific style */\n",
       "\n",
       "#sk-container-id-1 div.sk-label input.sk-toggleable__control:checked~label.sk-toggleable__label {\n",
       "  color: var(--sklearn-color-text);\n",
       "  background-color: var(--sklearn-color-unfitted-level-2);\n",
       "}\n",
       "\n",
       "#sk-container-id-1 div.sk-label.fitted input.sk-toggleable__control:checked~label.sk-toggleable__label {\n",
       "  background-color: var(--sklearn-color-fitted-level-2);\n",
       "}\n",
       "\n",
       "/* Estimator-specific style */\n",
       "\n",
       "/* Colorize estimator box */\n",
       "#sk-container-id-1 div.sk-estimator input.sk-toggleable__control:checked~label.sk-toggleable__label {\n",
       "  /* unfitted */\n",
       "  background-color: var(--sklearn-color-unfitted-level-2);\n",
       "}\n",
       "\n",
       "#sk-container-id-1 div.sk-estimator.fitted input.sk-toggleable__control:checked~label.sk-toggleable__label {\n",
       "  /* fitted */\n",
       "  background-color: var(--sklearn-color-fitted-level-2);\n",
       "}\n",
       "\n",
       "#sk-container-id-1 div.sk-label label.sk-toggleable__label,\n",
       "#sk-container-id-1 div.sk-label label {\n",
       "  /* The background is the default theme color */\n",
       "  color: var(--sklearn-color-text-on-default-background);\n",
       "}\n",
       "\n",
       "/* On hover, darken the color of the background */\n",
       "#sk-container-id-1 div.sk-label:hover label.sk-toggleable__label {\n",
       "  color: var(--sklearn-color-text);\n",
       "  background-color: var(--sklearn-color-unfitted-level-2);\n",
       "}\n",
       "\n",
       "/* Label box, darken color on hover, fitted */\n",
       "#sk-container-id-1 div.sk-label.fitted:hover label.sk-toggleable__label.fitted {\n",
       "  color: var(--sklearn-color-text);\n",
       "  background-color: var(--sklearn-color-fitted-level-2);\n",
       "}\n",
       "\n",
       "/* Estimator label */\n",
       "\n",
       "#sk-container-id-1 div.sk-label label {\n",
       "  font-family: monospace;\n",
       "  font-weight: bold;\n",
       "  display: inline-block;\n",
       "  line-height: 1.2em;\n",
       "}\n",
       "\n",
       "#sk-container-id-1 div.sk-label-container {\n",
       "  text-align: center;\n",
       "}\n",
       "\n",
       "/* Estimator-specific */\n",
       "#sk-container-id-1 div.sk-estimator {\n",
       "  font-family: monospace;\n",
       "  border: 1px dotted var(--sklearn-color-border-box);\n",
       "  border-radius: 0.25em;\n",
       "  box-sizing: border-box;\n",
       "  margin-bottom: 0.5em;\n",
       "  /* unfitted */\n",
       "  background-color: var(--sklearn-color-unfitted-level-0);\n",
       "}\n",
       "\n",
       "#sk-container-id-1 div.sk-estimator.fitted {\n",
       "  /* fitted */\n",
       "  background-color: var(--sklearn-color-fitted-level-0);\n",
       "}\n",
       "\n",
       "/* on hover */\n",
       "#sk-container-id-1 div.sk-estimator:hover {\n",
       "  /* unfitted */\n",
       "  background-color: var(--sklearn-color-unfitted-level-2);\n",
       "}\n",
       "\n",
       "#sk-container-id-1 div.sk-estimator.fitted:hover {\n",
       "  /* fitted */\n",
       "  background-color: var(--sklearn-color-fitted-level-2);\n",
       "}\n",
       "\n",
       "/* Specification for estimator info (e.g. \"i\" and \"?\") */\n",
       "\n",
       "/* Common style for \"i\" and \"?\" */\n",
       "\n",
       ".sk-estimator-doc-link,\n",
       "a:link.sk-estimator-doc-link,\n",
       "a:visited.sk-estimator-doc-link {\n",
       "  float: right;\n",
       "  font-size: smaller;\n",
       "  line-height: 1em;\n",
       "  font-family: monospace;\n",
       "  background-color: var(--sklearn-color-background);\n",
       "  border-radius: 1em;\n",
       "  height: 1em;\n",
       "  width: 1em;\n",
       "  text-decoration: none !important;\n",
       "  margin-left: 0.5em;\n",
       "  text-align: center;\n",
       "  /* unfitted */\n",
       "  border: var(--sklearn-color-unfitted-level-1) 1pt solid;\n",
       "  color: var(--sklearn-color-unfitted-level-1);\n",
       "}\n",
       "\n",
       ".sk-estimator-doc-link.fitted,\n",
       "a:link.sk-estimator-doc-link.fitted,\n",
       "a:visited.sk-estimator-doc-link.fitted {\n",
       "  /* fitted */\n",
       "  border: var(--sklearn-color-fitted-level-1) 1pt solid;\n",
       "  color: var(--sklearn-color-fitted-level-1);\n",
       "}\n",
       "\n",
       "/* On hover */\n",
       "div.sk-estimator:hover .sk-estimator-doc-link:hover,\n",
       ".sk-estimator-doc-link:hover,\n",
       "div.sk-label-container:hover .sk-estimator-doc-link:hover,\n",
       ".sk-estimator-doc-link:hover {\n",
       "  /* unfitted */\n",
       "  background-color: var(--sklearn-color-unfitted-level-3);\n",
       "  color: var(--sklearn-color-background);\n",
       "  text-decoration: none;\n",
       "}\n",
       "\n",
       "div.sk-estimator.fitted:hover .sk-estimator-doc-link.fitted:hover,\n",
       ".sk-estimator-doc-link.fitted:hover,\n",
       "div.sk-label-container:hover .sk-estimator-doc-link.fitted:hover,\n",
       ".sk-estimator-doc-link.fitted:hover {\n",
       "  /* fitted */\n",
       "  background-color: var(--sklearn-color-fitted-level-3);\n",
       "  color: var(--sklearn-color-background);\n",
       "  text-decoration: none;\n",
       "}\n",
       "\n",
       "/* Span, style for the box shown on hovering the info icon */\n",
       ".sk-estimator-doc-link span {\n",
       "  display: none;\n",
       "  z-index: 9999;\n",
       "  position: relative;\n",
       "  font-weight: normal;\n",
       "  right: .2ex;\n",
       "  padding: .5ex;\n",
       "  margin: .5ex;\n",
       "  width: min-content;\n",
       "  min-width: 20ex;\n",
       "  max-width: 50ex;\n",
       "  color: var(--sklearn-color-text);\n",
       "  box-shadow: 2pt 2pt 4pt #999;\n",
       "  /* unfitted */\n",
       "  background: var(--sklearn-color-unfitted-level-0);\n",
       "  border: .5pt solid var(--sklearn-color-unfitted-level-3);\n",
       "}\n",
       "\n",
       ".sk-estimator-doc-link.fitted span {\n",
       "  /* fitted */\n",
       "  background: var(--sklearn-color-fitted-level-0);\n",
       "  border: var(--sklearn-color-fitted-level-3);\n",
       "}\n",
       "\n",
       ".sk-estimator-doc-link:hover span {\n",
       "  display: block;\n",
       "}\n",
       "\n",
       "/* \"?\"-specific style due to the `<a>` HTML tag */\n",
       "\n",
       "#sk-container-id-1 a.estimator_doc_link {\n",
       "  float: right;\n",
       "  font-size: 1rem;\n",
       "  line-height: 1em;\n",
       "  font-family: monospace;\n",
       "  background-color: var(--sklearn-color-background);\n",
       "  border-radius: 1rem;\n",
       "  height: 1rem;\n",
       "  width: 1rem;\n",
       "  text-decoration: none;\n",
       "  /* unfitted */\n",
       "  color: var(--sklearn-color-unfitted-level-1);\n",
       "  border: var(--sklearn-color-unfitted-level-1) 1pt solid;\n",
       "}\n",
       "\n",
       "#sk-container-id-1 a.estimator_doc_link.fitted {\n",
       "  /* fitted */\n",
       "  border: var(--sklearn-color-fitted-level-1) 1pt solid;\n",
       "  color: var(--sklearn-color-fitted-level-1);\n",
       "}\n",
       "\n",
       "/* On hover */\n",
       "#sk-container-id-1 a.estimator_doc_link:hover {\n",
       "  /* unfitted */\n",
       "  background-color: var(--sklearn-color-unfitted-level-3);\n",
       "  color: var(--sklearn-color-background);\n",
       "  text-decoration: none;\n",
       "}\n",
       "\n",
       "#sk-container-id-1 a.estimator_doc_link.fitted:hover {\n",
       "  /* fitted */\n",
       "  background-color: var(--sklearn-color-fitted-level-3);\n",
       "}\n",
       "</style><div id=\"sk-container-id-1\" class=\"sk-top-container\"><div class=\"sk-text-repr-fallback\"><pre>Pipeline(steps=[(&#x27;scaler&#x27;, StandardScaler()),\n",
       "                (&#x27;model&#x27;, GradientBoostingClassifier())])</pre><b>In a Jupyter environment, please rerun this cell to show the HTML representation or trust the notebook. <br />On GitHub, the HTML representation is unable to render, please try loading this page with nbviewer.org.</b></div><div class=\"sk-container\" hidden><div class=\"sk-item sk-dashed-wrapped\"><div class=\"sk-label-container\"><div class=\"sk-label fitted sk-toggleable\"><input class=\"sk-toggleable__control sk-hidden--visually\" id=\"sk-estimator-id-1\" type=\"checkbox\" ><label for=\"sk-estimator-id-1\" class=\"sk-toggleable__label fitted sk-toggleable__label-arrow\"><div><div>Pipeline</div></div><div><a class=\"sk-estimator-doc-link fitted\" rel=\"noreferrer\" target=\"_blank\" href=\"https://scikit-learn.org/1.6/modules/generated/sklearn.pipeline.Pipeline.html\">?<span>Documentation for Pipeline</span></a><span class=\"sk-estimator-doc-link fitted\">i<span>Fitted</span></span></div></label><div class=\"sk-toggleable__content fitted\"><pre>Pipeline(steps=[(&#x27;scaler&#x27;, StandardScaler()),\n",
       "                (&#x27;model&#x27;, GradientBoostingClassifier())])</pre></div> </div></div><div class=\"sk-serial\"><div class=\"sk-item\"><div class=\"sk-estimator fitted sk-toggleable\"><input class=\"sk-toggleable__control sk-hidden--visually\" id=\"sk-estimator-id-2\" type=\"checkbox\" ><label for=\"sk-estimator-id-2\" class=\"sk-toggleable__label fitted sk-toggleable__label-arrow\"><div><div>StandardScaler</div></div><div><a class=\"sk-estimator-doc-link fitted\" rel=\"noreferrer\" target=\"_blank\" href=\"https://scikit-learn.org/1.6/modules/generated/sklearn.preprocessing.StandardScaler.html\">?<span>Documentation for StandardScaler</span></a></div></label><div class=\"sk-toggleable__content fitted\"><pre>StandardScaler()</pre></div> </div></div><div class=\"sk-item\"><div class=\"sk-estimator fitted sk-toggleable\"><input class=\"sk-toggleable__control sk-hidden--visually\" id=\"sk-estimator-id-3\" type=\"checkbox\" ><label for=\"sk-estimator-id-3\" class=\"sk-toggleable__label fitted sk-toggleable__label-arrow\"><div><div>GradientBoostingClassifier</div></div><div><a class=\"sk-estimator-doc-link fitted\" rel=\"noreferrer\" target=\"_blank\" href=\"https://scikit-learn.org/1.6/modules/generated/sklearn.ensemble.GradientBoostingClassifier.html\">?<span>Documentation for GradientBoostingClassifier</span></a></div></label><div class=\"sk-toggleable__content fitted\"><pre>GradientBoostingClassifier()</pre></div> </div></div></div></div></div></div>"
      ],
      "text/plain": [
       "Pipeline(steps=[('scaler', StandardScaler()),\n",
       "                ('model', GradientBoostingClassifier())])"
      ]
     },
     "execution_count": 37,
     "metadata": {},
     "output_type": "execute_result"
    }
   ],
   "source": [
    "from sklearn.pipeline import Pipeline\n",
    "from sklearn.ensemble import GradientBoostingClassifier  # Using Gradient Boosting model\n",
    "from sklearn.preprocessing import StandardScaler  # Example preprocessing step\n",
    "from sklearn.model_selection import train_test_split\n",
    "\n",
    "# Example: Define a pipeline with preprocessing and Gradient Boosting model\n",
    "pipeline = Pipeline([\n",
    "    ('scaler', StandardScaler()),  # Step 1: Preprocessing\n",
    "    ('model', GradientBoostingClassifier())  # Step 2: Gradient Boosting model\n",
    "])\n",
    "\n",
    "# Assuming X_train and y_train are your training data and target\n",
    "# Fit the pipeline with the training data\n",
    "pipeline.fit(X_train, y_train)\n"
   ]
  },
  {
   "cell_type": "code",
   "execution_count": null,
   "metadata": {
    "colab": {
     "base_uri": "https://localhost:8080/"
    },
    "id": "LTR8bZ1OuzGn",
    "outputId": "3f08846b-d848-4f3d-9f35-b38c6ff6d362"
   },
   "outputs": [
    {
     "name": "stdout",
     "output_type": "stream",
     "text": [
      "Predictions for unseen data: [1 1 1 1 1 1 1 1 1 1]\n"
     ]
    }
   ],
   "source": [
    "# Load unseen data\n",
    "unseen_df = pd.read_csv(\"unclassify.csv\")  # Ensure this file exists\n",
    "\n",
    "# Ensure unseen data has the same features as training data (X_train)\n",
    "unseen_X = unseen_df.reindex(columns=X_train.columns, fill_value=0)\n",
    "\n",
    "# Make predictions\n",
    "predictions = pipeline.predict(unseen_X)\n",
    "print(\"Predictions for unseen data:\", predictions)\n"
   ]
  },
  {
   "cell_type": "markdown",
   "metadata": {
    "id": "H1l22IDMao9h"
   },
   "source": [
    "#16. Interpretation of Results (Conclusion)\n",
    "\n",
    "\n",
    "\n",
    "\n",
    "- The best-performing model, Gradient Boosting, was selected after hyperparameter tuning.\n",
    "- Feature selection using Random Forest ensured only the most important features were used.\n",
    "- SMOTE was applied to handle class imbalance, improving fairness in predictions.\n",
    "- Standardization improved model stability and performance.\n",
    "- The trained model is now capable of predicting delayed payments on unseen data.\n",
    "\n",
    "### Limitations:\n",
    "- Some categorical features might have been lost due to `pd.get_dummies()`, which could affect model interpretability.\n",
    "- Unseen categorical values in new data may lead to mismatches unless properly handled.\n",
    "- The dataset may contain biases, which could impact real-world performance.\n",
    "\n",
    "Despite these limitations, the model provides a solid foundation for predicting payment delays and can be improved further with more data and feature engineering.\n",
    "\n"
   ]
  },
  {
   "cell_type": "markdown",
   "metadata": {
    "id": "a0FzanTyayix"
   },
   "source": [
    "\n",
    "### 17 Future Work\n",
    "\n",
    "- **Try Deep Learning:** Explore using deep learning models like Neural Networks to boost accuracy.\n",
    "- **Update the Model:** Regularly retrain the model with new data to keep it relevant.\n",
    "- **Improve Data Balancing:** Try new techniques like ADASYN to balance the data better.\n",
    "- **Add More Features:** Look for more useful features to improve the model’s predictions.\n",
    "- **Better Handling of Categories:** Use techniques like target encoding to better handle categorical data.\n",
    "- **Deploy the Model:** Think about turning the model into an API or integrating it into a real-time system.\n",
    "\n",
    "By continuously improving, we can make sure the model stays accurate and useful in the real world.\n",
    "\n"
   ]
  },
  {
   "cell_type": "code",
   "execution_count": null,
   "metadata": {
    "id": "50d2AuuTEi2h"
   },
   "outputs": [],
   "source": []
  }
 ],
 "metadata": {
  "colab": {
   "provenance": []
  },
  "kernelspec": {
   "display_name": "Python 3 (ipykernel)",
   "language": "python",
   "name": "python3"
  },
  "language_info": {
   "codemirror_mode": {
    "name": "ipython",
    "version": 3
   },
   "file_extension": ".py",
   "mimetype": "text/x-python",
   "name": "python",
   "nbconvert_exporter": "python",
   "pygments_lexer": "ipython3",
   "version": "3.12.0"
  }
 },
 "nbformat": 4,
 "nbformat_minor": 4
}
